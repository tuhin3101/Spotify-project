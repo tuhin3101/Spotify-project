{
 "cells": [
  {
   "cell_type": "markdown",
   "id": "6ed06821",
   "metadata": {},
   "source": [
    "## Importing necessary libraries"
   ]
  },
  {
   "cell_type": "code",
   "execution_count": 345,
   "id": "7ff8d00c",
   "metadata": {},
   "outputs": [],
   "source": [
    "import numpy as np\n",
    "import pandas as pd\n",
    "import matplotlib.pyplot as plt\n",
    "import seaborn as sns\n",
    "%matplotlib inline\n",
    "import warnings\n",
    "warnings.filterwarnings('ignore')\n",
    "from sklearn.preprocessing import LabelEncoder\n",
    "from datetime import datetime as dt"
   ]
  },
  {
   "cell_type": "markdown",
   "id": "bf3e10f1",
   "metadata": {},
   "source": [
    "### Loading the dataset"
   ]
  },
  {
   "cell_type": "code",
   "execution_count": 346,
   "id": "6d4fcba1",
   "metadata": {},
   "outputs": [],
   "source": [
    "df1 = pd.read_csv('log_mini.csv')\n",
    "df2 = pd.read_csv('tf_mini.csv')"
   ]
  },
  {
   "cell_type": "code",
   "execution_count": 347,
   "id": "c6d42a99",
   "metadata": {},
   "outputs": [
    {
     "data": {
      "text/plain": [
       "((167880, 21), (50704, 30))"
      ]
     },
     "execution_count": 347,
     "metadata": {},
     "output_type": "execute_result"
    }
   ],
   "source": [
    "df1.shape, df2.shape"
   ]
  },
  {
   "cell_type": "code",
   "execution_count": 348,
   "id": "4538c373",
   "metadata": {},
   "outputs": [],
   "source": [
    "# Renaming the column track id\n",
    "df1 = df1.rename(columns={'track_id_clean':'track_id'})"
   ]
  },
  {
   "cell_type": "code",
   "execution_count": 349,
   "id": "3c47e54a",
   "metadata": {},
   "outputs": [],
   "source": [
    "# merging the two dataset\n",
    "df = pd.merge(df1, df2, on='track_id')"
   ]
  },
  {
   "cell_type": "code",
   "execution_count": 350,
   "id": "6845e65b",
   "metadata": {},
   "outputs": [
    {
     "data": {
      "text/html": [
       "<div>\n",
       "<style scoped>\n",
       "    .dataframe tbody tr th:only-of-type {\n",
       "        vertical-align: middle;\n",
       "    }\n",
       "\n",
       "    .dataframe tbody tr th {\n",
       "        vertical-align: top;\n",
       "    }\n",
       "\n",
       "    .dataframe thead th {\n",
       "        text-align: right;\n",
       "    }\n",
       "</style>\n",
       "<table border=\"1\" class=\"dataframe\">\n",
       "  <thead>\n",
       "    <tr style=\"text-align: right;\">\n",
       "      <th></th>\n",
       "      <th>session_id</th>\n",
       "      <th>session_position</th>\n",
       "      <th>session_length</th>\n",
       "      <th>track_id</th>\n",
       "      <th>skip_1</th>\n",
       "      <th>skip_2</th>\n",
       "      <th>skip_3</th>\n",
       "      <th>not_skipped</th>\n",
       "      <th>context_switch</th>\n",
       "      <th>no_pause_before_play</th>\n",
       "      <th>...</th>\n",
       "      <th>time_signature</th>\n",
       "      <th>valence</th>\n",
       "      <th>acoustic_vector_0</th>\n",
       "      <th>acoustic_vector_1</th>\n",
       "      <th>acoustic_vector_2</th>\n",
       "      <th>acoustic_vector_3</th>\n",
       "      <th>acoustic_vector_4</th>\n",
       "      <th>acoustic_vector_5</th>\n",
       "      <th>acoustic_vector_6</th>\n",
       "      <th>acoustic_vector_7</th>\n",
       "    </tr>\n",
       "  </thead>\n",
       "  <tbody>\n",
       "    <tr>\n",
       "      <th>0</th>\n",
       "      <td>0_00006f66-33e5-4de7-a324-2d18e439fc1e</td>\n",
       "      <td>1</td>\n",
       "      <td>20</td>\n",
       "      <td>t_0479f24c-27d2-46d6-a00c-7ec928f2b539</td>\n",
       "      <td>False</td>\n",
       "      <td>False</td>\n",
       "      <td>False</td>\n",
       "      <td>True</td>\n",
       "      <td>0</td>\n",
       "      <td>0</td>\n",
       "      <td>...</td>\n",
       "      <td>4</td>\n",
       "      <td>0.152255</td>\n",
       "      <td>-0.815775</td>\n",
       "      <td>0.386409</td>\n",
       "      <td>0.23016</td>\n",
       "      <td>0.028028</td>\n",
       "      <td>-0.333373</td>\n",
       "      <td>0.015452</td>\n",
       "      <td>-0.35359</td>\n",
       "      <td>0.205826</td>\n",
       "    </tr>\n",
       "    <tr>\n",
       "      <th>1</th>\n",
       "      <td>0_00079a23-1600-486a-91bd-5208be0c745a</td>\n",
       "      <td>7</td>\n",
       "      <td>12</td>\n",
       "      <td>t_0479f24c-27d2-46d6-a00c-7ec928f2b539</td>\n",
       "      <td>False</td>\n",
       "      <td>False</td>\n",
       "      <td>True</td>\n",
       "      <td>False</td>\n",
       "      <td>0</td>\n",
       "      <td>0</td>\n",
       "      <td>...</td>\n",
       "      <td>4</td>\n",
       "      <td>0.152255</td>\n",
       "      <td>-0.815775</td>\n",
       "      <td>0.386409</td>\n",
       "      <td>0.23016</td>\n",
       "      <td>0.028028</td>\n",
       "      <td>-0.333373</td>\n",
       "      <td>0.015452</td>\n",
       "      <td>-0.35359</td>\n",
       "      <td>0.205826</td>\n",
       "    </tr>\n",
       "  </tbody>\n",
       "</table>\n",
       "<p>2 rows × 50 columns</p>\n",
       "</div>"
      ],
      "text/plain": [
       "                               session_id  session_position  session_length  \\\n",
       "0  0_00006f66-33e5-4de7-a324-2d18e439fc1e                 1              20   \n",
       "1  0_00079a23-1600-486a-91bd-5208be0c745a                 7              12   \n",
       "\n",
       "                                 track_id  skip_1  skip_2  skip_3  \\\n",
       "0  t_0479f24c-27d2-46d6-a00c-7ec928f2b539   False   False   False   \n",
       "1  t_0479f24c-27d2-46d6-a00c-7ec928f2b539   False   False    True   \n",
       "\n",
       "   not_skipped  context_switch  no_pause_before_play  ...  time_signature  \\\n",
       "0         True               0                     0  ...               4   \n",
       "1        False               0                     0  ...               4   \n",
       "\n",
       "    valence  acoustic_vector_0  acoustic_vector_1  acoustic_vector_2  \\\n",
       "0  0.152255          -0.815775           0.386409            0.23016   \n",
       "1  0.152255          -0.815775           0.386409            0.23016   \n",
       "\n",
       "   acoustic_vector_3 acoustic_vector_4  acoustic_vector_5 acoustic_vector_6  \\\n",
       "0           0.028028         -0.333373           0.015452          -0.35359   \n",
       "1           0.028028         -0.333373           0.015452          -0.35359   \n",
       "\n",
       "  acoustic_vector_7  \n",
       "0          0.205826  \n",
       "1          0.205826  \n",
       "\n",
       "[2 rows x 50 columns]"
      ]
     },
     "execution_count": 350,
     "metadata": {},
     "output_type": "execute_result"
    }
   ],
   "source": [
    "df.head(2)"
   ]
  },
  {
   "cell_type": "code",
   "execution_count": null,
   "id": "fb154b57",
   "metadata": {},
   "outputs": [],
   "source": []
  },
  {
   "cell_type": "code",
   "execution_count": 351,
   "id": "27cc4d70",
   "metadata": {},
   "outputs": [],
   "source": [
    "df[\"skipped\"] = df[\"skip_1\"]*df[\"skip_2\"]*df[\"skip_3\"]\n",
    "df.drop([\"skip_1\", \"skip_2\", \"skip_3\", \"not_skipped\"], axis=1, inplace=True)"
   ]
  },
  {
   "cell_type": "code",
   "execution_count": 352,
   "id": "63a7e0a5",
   "metadata": {},
   "outputs": [],
   "source": [
    "df['date'] = pd.to_datetime(df['date'])"
   ]
  },
  {
   "cell_type": "code",
   "execution_count": 353,
   "id": "b6156922",
   "metadata": {},
   "outputs": [],
   "source": [
    "# extract year, month, day\n",
    "df['year'] = df['date'].dt.year\n",
    "df['month'] = df['date'].dt.month\n",
    "df['day'] = df['date'].dt.day"
   ]
  },
  {
   "cell_type": "code",
   "execution_count": 354,
   "id": "66437cd9",
   "metadata": {},
   "outputs": [],
   "source": [
    "df.drop('date',axis=1, inplace=True)"
   ]
  },
  {
   "cell_type": "code",
   "execution_count": 355,
   "id": "53d2e1db",
   "metadata": {},
   "outputs": [],
   "source": [
    "df.drop(['session_id','track_id'],axis=1,inplace=True)"
   ]
  },
  {
   "cell_type": "code",
   "execution_count": 356,
   "id": "4ed29a05",
   "metadata": {},
   "outputs": [
    {
     "data": {
      "text/html": [
       "<div>\n",
       "<style scoped>\n",
       "    .dataframe tbody tr th:only-of-type {\n",
       "        vertical-align: middle;\n",
       "    }\n",
       "\n",
       "    .dataframe tbody tr th {\n",
       "        vertical-align: top;\n",
       "    }\n",
       "\n",
       "    .dataframe thead th {\n",
       "        text-align: right;\n",
       "    }\n",
       "</style>\n",
       "<table border=\"1\" class=\"dataframe\">\n",
       "  <thead>\n",
       "    <tr style=\"text-align: right;\">\n",
       "      <th></th>\n",
       "      <th>session_position</th>\n",
       "      <th>session_length</th>\n",
       "      <th>context_switch</th>\n",
       "      <th>no_pause_before_play</th>\n",
       "      <th>short_pause_before_play</th>\n",
       "      <th>long_pause_before_play</th>\n",
       "      <th>hist_user_behavior_n_seekfwd</th>\n",
       "      <th>hist_user_behavior_n_seekback</th>\n",
       "      <th>hist_user_behavior_is_shuffle</th>\n",
       "      <th>hour_of_day</th>\n",
       "      <th>...</th>\n",
       "      <th>acoustic_vector_2</th>\n",
       "      <th>acoustic_vector_3</th>\n",
       "      <th>acoustic_vector_4</th>\n",
       "      <th>acoustic_vector_5</th>\n",
       "      <th>acoustic_vector_6</th>\n",
       "      <th>acoustic_vector_7</th>\n",
       "      <th>skipped</th>\n",
       "      <th>year</th>\n",
       "      <th>month</th>\n",
       "      <th>day</th>\n",
       "    </tr>\n",
       "  </thead>\n",
       "  <tbody>\n",
       "    <tr>\n",
       "      <th>0</th>\n",
       "      <td>1</td>\n",
       "      <td>20</td>\n",
       "      <td>0</td>\n",
       "      <td>0</td>\n",
       "      <td>0</td>\n",
       "      <td>0</td>\n",
       "      <td>0</td>\n",
       "      <td>0</td>\n",
       "      <td>True</td>\n",
       "      <td>16</td>\n",
       "      <td>...</td>\n",
       "      <td>0.23016</td>\n",
       "      <td>0.028028</td>\n",
       "      <td>-0.333373</td>\n",
       "      <td>0.015452</td>\n",
       "      <td>-0.35359</td>\n",
       "      <td>0.205826</td>\n",
       "      <td>False</td>\n",
       "      <td>2018</td>\n",
       "      <td>7</td>\n",
       "      <td>15</td>\n",
       "    </tr>\n",
       "    <tr>\n",
       "      <th>1</th>\n",
       "      <td>7</td>\n",
       "      <td>12</td>\n",
       "      <td>0</td>\n",
       "      <td>0</td>\n",
       "      <td>1</td>\n",
       "      <td>1</td>\n",
       "      <td>0</td>\n",
       "      <td>0</td>\n",
       "      <td>False</td>\n",
       "      <td>17</td>\n",
       "      <td>...</td>\n",
       "      <td>0.23016</td>\n",
       "      <td>0.028028</td>\n",
       "      <td>-0.333373</td>\n",
       "      <td>0.015452</td>\n",
       "      <td>-0.35359</td>\n",
       "      <td>0.205826</td>\n",
       "      <td>False</td>\n",
       "      <td>2018</td>\n",
       "      <td>7</td>\n",
       "      <td>15</td>\n",
       "    </tr>\n",
       "    <tr>\n",
       "      <th>2</th>\n",
       "      <td>6</td>\n",
       "      <td>20</td>\n",
       "      <td>0</td>\n",
       "      <td>0</td>\n",
       "      <td>1</td>\n",
       "      <td>1</td>\n",
       "      <td>0</td>\n",
       "      <td>0</td>\n",
       "      <td>False</td>\n",
       "      <td>21</td>\n",
       "      <td>...</td>\n",
       "      <td>0.23016</td>\n",
       "      <td>0.028028</td>\n",
       "      <td>-0.333373</td>\n",
       "      <td>0.015452</td>\n",
       "      <td>-0.35359</td>\n",
       "      <td>0.205826</td>\n",
       "      <td>False</td>\n",
       "      <td>2018</td>\n",
       "      <td>7</td>\n",
       "      <td>14</td>\n",
       "    </tr>\n",
       "    <tr>\n",
       "      <th>3</th>\n",
       "      <td>9</td>\n",
       "      <td>13</td>\n",
       "      <td>0</td>\n",
       "      <td>1</td>\n",
       "      <td>0</td>\n",
       "      <td>0</td>\n",
       "      <td>0</td>\n",
       "      <td>0</td>\n",
       "      <td>False</td>\n",
       "      <td>18</td>\n",
       "      <td>...</td>\n",
       "      <td>0.23016</td>\n",
       "      <td>0.028028</td>\n",
       "      <td>-0.333373</td>\n",
       "      <td>0.015452</td>\n",
       "      <td>-0.35359</td>\n",
       "      <td>0.205826</td>\n",
       "      <td>False</td>\n",
       "      <td>2018</td>\n",
       "      <td>7</td>\n",
       "      <td>15</td>\n",
       "    </tr>\n",
       "    <tr>\n",
       "      <th>4</th>\n",
       "      <td>7</td>\n",
       "      <td>12</td>\n",
       "      <td>0</td>\n",
       "      <td>0</td>\n",
       "      <td>1</td>\n",
       "      <td>1</td>\n",
       "      <td>0</td>\n",
       "      <td>0</td>\n",
       "      <td>True</td>\n",
       "      <td>19</td>\n",
       "      <td>...</td>\n",
       "      <td>0.23016</td>\n",
       "      <td>0.028028</td>\n",
       "      <td>-0.333373</td>\n",
       "      <td>0.015452</td>\n",
       "      <td>-0.35359</td>\n",
       "      <td>0.205826</td>\n",
       "      <td>False</td>\n",
       "      <td>2018</td>\n",
       "      <td>7</td>\n",
       "      <td>14</td>\n",
       "    </tr>\n",
       "  </tbody>\n",
       "</table>\n",
       "<p>5 rows × 47 columns</p>\n",
       "</div>"
      ],
      "text/plain": [
       "   session_position  session_length  context_switch  no_pause_before_play  \\\n",
       "0                 1              20               0                     0   \n",
       "1                 7              12               0                     0   \n",
       "2                 6              20               0                     0   \n",
       "3                 9              13               0                     1   \n",
       "4                 7              12               0                     0   \n",
       "\n",
       "   short_pause_before_play  long_pause_before_play  \\\n",
       "0                        0                       0   \n",
       "1                        1                       1   \n",
       "2                        1                       1   \n",
       "3                        0                       0   \n",
       "4                        1                       1   \n",
       "\n",
       "   hist_user_behavior_n_seekfwd  hist_user_behavior_n_seekback  \\\n",
       "0                             0                              0   \n",
       "1                             0                              0   \n",
       "2                             0                              0   \n",
       "3                             0                              0   \n",
       "4                             0                              0   \n",
       "\n",
       "   hist_user_behavior_is_shuffle  hour_of_day  ...  acoustic_vector_2  \\\n",
       "0                           True           16  ...            0.23016   \n",
       "1                          False           17  ...            0.23016   \n",
       "2                          False           21  ...            0.23016   \n",
       "3                          False           18  ...            0.23016   \n",
       "4                           True           19  ...            0.23016   \n",
       "\n",
       "  acoustic_vector_3 acoustic_vector_4 acoustic_vector_5  acoustic_vector_6  \\\n",
       "0          0.028028         -0.333373          0.015452           -0.35359   \n",
       "1          0.028028         -0.333373          0.015452           -0.35359   \n",
       "2          0.028028         -0.333373          0.015452           -0.35359   \n",
       "3          0.028028         -0.333373          0.015452           -0.35359   \n",
       "4          0.028028         -0.333373          0.015452           -0.35359   \n",
       "\n",
       "   acoustic_vector_7  skipped  year  month  day  \n",
       "0           0.205826    False  2018      7   15  \n",
       "1           0.205826    False  2018      7   15  \n",
       "2           0.205826    False  2018      7   14  \n",
       "3           0.205826    False  2018      7   15  \n",
       "4           0.205826    False  2018      7   14  \n",
       "\n",
       "[5 rows x 47 columns]"
      ]
     },
     "execution_count": 356,
     "metadata": {},
     "output_type": "execute_result"
    }
   ],
   "source": [
    "df.head()"
   ]
  },
  {
   "cell_type": "code",
   "execution_count": 357,
   "id": "daf9dbf6",
   "metadata": {},
   "outputs": [
    {
     "name": "stdout",
     "output_type": "stream",
     "text": [
      "<class 'pandas.core.frame.DataFrame'>\n",
      "Int64Index: 167880 entries, 0 to 167879\n",
      "Data columns (total 47 columns):\n",
      " #   Column                           Non-Null Count   Dtype  \n",
      "---  ------                           --------------   -----  \n",
      " 0   session_position                 167880 non-null  int64  \n",
      " 1   session_length                   167880 non-null  int64  \n",
      " 2   context_switch                   167880 non-null  int64  \n",
      " 3   no_pause_before_play             167880 non-null  int64  \n",
      " 4   short_pause_before_play          167880 non-null  int64  \n",
      " 5   long_pause_before_play           167880 non-null  int64  \n",
      " 6   hist_user_behavior_n_seekfwd     167880 non-null  int64  \n",
      " 7   hist_user_behavior_n_seekback    167880 non-null  int64  \n",
      " 8   hist_user_behavior_is_shuffle    167880 non-null  bool   \n",
      " 9   hour_of_day                      167880 non-null  int64  \n",
      " 10  premium                          167880 non-null  bool   \n",
      " 11  context_type                     167880 non-null  object \n",
      " 12  hist_user_behavior_reason_start  167880 non-null  object \n",
      " 13  hist_user_behavior_reason_end    167880 non-null  object \n",
      " 14  duration                         167880 non-null  float64\n",
      " 15  release_year                     167880 non-null  int64  \n",
      " 16  us_popularity_estimate           167880 non-null  float64\n",
      " 17  acousticness                     167880 non-null  float64\n",
      " 18  beat_strength                    167880 non-null  float64\n",
      " 19  bounciness                       167880 non-null  float64\n",
      " 20  danceability                     167880 non-null  float64\n",
      " 21  dyn_range_mean                   167880 non-null  float64\n",
      " 22  energy                           167880 non-null  float64\n",
      " 23  flatness                         167880 non-null  float64\n",
      " 24  instrumentalness                 167880 non-null  float64\n",
      " 25  key                              167880 non-null  int64  \n",
      " 26  liveness                         167880 non-null  float64\n",
      " 27  loudness                         167880 non-null  float64\n",
      " 28  mechanism                        167880 non-null  float64\n",
      " 29  mode                             167880 non-null  object \n",
      " 30  organism                         167880 non-null  float64\n",
      " 31  speechiness                      167880 non-null  float64\n",
      " 32  tempo                            167880 non-null  float64\n",
      " 33  time_signature                   167880 non-null  int64  \n",
      " 34  valence                          167880 non-null  float64\n",
      " 35  acoustic_vector_0                167880 non-null  float64\n",
      " 36  acoustic_vector_1                167880 non-null  float64\n",
      " 37  acoustic_vector_2                167880 non-null  float64\n",
      " 38  acoustic_vector_3                167880 non-null  float64\n",
      " 39  acoustic_vector_4                167880 non-null  float64\n",
      " 40  acoustic_vector_5                167880 non-null  float64\n",
      " 41  acoustic_vector_6                167880 non-null  float64\n",
      " 42  acoustic_vector_7                167880 non-null  float64\n",
      " 43  skipped                          167880 non-null  bool   \n",
      " 44  year                             167880 non-null  int64  \n",
      " 45  month                            167880 non-null  int64  \n",
      " 46  day                              167880 non-null  int64  \n",
      "dtypes: bool(3), float64(25), int64(15), object(4)\n",
      "memory usage: 58.1+ MB\n"
     ]
    }
   ],
   "source": [
    "df.info()"
   ]
  },
  {
   "cell_type": "code",
   "execution_count": 358,
   "id": "3f68d2f8",
   "metadata": {},
   "outputs": [
    {
     "data": {
      "text/plain": [
       "session_position                   0\n",
       "session_length                     0\n",
       "context_switch                     0\n",
       "no_pause_before_play               0\n",
       "short_pause_before_play            0\n",
       "long_pause_before_play             0\n",
       "hist_user_behavior_n_seekfwd       0\n",
       "hist_user_behavior_n_seekback      0\n",
       "hist_user_behavior_is_shuffle      0\n",
       "hour_of_day                        0\n",
       "premium                            0\n",
       "context_type                       0\n",
       "hist_user_behavior_reason_start    0\n",
       "hist_user_behavior_reason_end      0\n",
       "duration                           0\n",
       "release_year                       0\n",
       "us_popularity_estimate             0\n",
       "acousticness                       0\n",
       "beat_strength                      0\n",
       "bounciness                         0\n",
       "danceability                       0\n",
       "dyn_range_mean                     0\n",
       "energy                             0\n",
       "flatness                           0\n",
       "instrumentalness                   0\n",
       "key                                0\n",
       "liveness                           0\n",
       "loudness                           0\n",
       "mechanism                          0\n",
       "mode                               0\n",
       "organism                           0\n",
       "speechiness                        0\n",
       "tempo                              0\n",
       "time_signature                     0\n",
       "valence                            0\n",
       "acoustic_vector_0                  0\n",
       "acoustic_vector_1                  0\n",
       "acoustic_vector_2                  0\n",
       "acoustic_vector_3                  0\n",
       "acoustic_vector_4                  0\n",
       "acoustic_vector_5                  0\n",
       "acoustic_vector_6                  0\n",
       "acoustic_vector_7                  0\n",
       "skipped                            0\n",
       "year                               0\n",
       "month                              0\n",
       "day                                0\n",
       "dtype: int64"
      ]
     },
     "execution_count": 358,
     "metadata": {},
     "output_type": "execute_result"
    }
   ],
   "source": [
    "df.isnull().sum()"
   ]
  },
  {
   "cell_type": "code",
   "execution_count": 359,
   "id": "605526ea",
   "metadata": {},
   "outputs": [
    {
     "name": "stdout",
     "output_type": "stream",
     "text": [
      "session_position has total unique values:20 \n",
      "They are [ 1  7  6  9  8  2 13  5 16 14  4 19  3 10 17 12 15 20 18 11]\n",
      "\n",
      "session_length has total unique values:11 \n",
      "They are [20 12 13 19 11 15 16 10 17 18 14]\n",
      "\n",
      "hist_user_behavior_n_seekfwd has total unique values:25 \n",
      "They are [ 0  1  3  4  6  2  5 10 14  7 16 25  8 29  9 38 20 24 23 12 15 19 60 11\n",
      " 22]\n",
      "\n",
      "hist_user_behavior_n_seekback has total unique values:30 \n",
      "They are [  0   1   2  10  21   6   4   5   3   8   7  20  13  14  15  34  52   9\n",
      "  73  55 151  11  23  12  53  17  16  26  43  18]\n",
      "\n",
      "hour_of_day has total unique values:24 \n",
      "They are [16 17 21 18 19 11 15  3 23  9  0 14 22 20 13 10  5 12  7  2  1  6  4  8]\n",
      "\n",
      "context_type has total unique values:6 \n",
      "They are ['editorial_playlist' 'user_collection' 'catalog' 'radio' 'charts'\n",
      " 'personalized_playlist']\n",
      "\n",
      "hist_user_behavior_reason_start has total unique values:9 \n",
      "They are ['trackdone' 'fwdbtn' 'appload' 'playbtn' 'clickrow' 'backbtn' 'remote'\n",
      " 'endplay' 'trackerror']\n",
      "\n",
      "hist_user_behavior_reason_end has total unique values:7 \n",
      "They are ['trackdone' 'endplay' 'fwdbtn' 'backbtn' 'remote' 'logout' 'clickrow']\n",
      "\n",
      "release_year has total unique values:69 \n",
      "They are [2018 1993 1974 1979 2006 2009 1957 1965 2013 2004 2015 1972 1984 1968\n",
      " 2003 1977 2017 2016 2014 2012 2011 2010 2000 2005 1998 2007 1996 2001\n",
      " 2002 1973 1980 1995 1987 1976 1994 1983 1978 1982 1986 2008 1997 1991\n",
      " 1992 1966 1964 1967 1969 1970 1963 1999 1961 1988 1975 1990 1989 1958\n",
      " 1962 1971 1985 1959 1981 1954 1956 1951 1950 1955 1960 1952 1953]\n",
      "\n",
      "key has total unique values:12 \n",
      "They are [ 1  7 10  8  6  5  4  2  0  3  9 11]\n",
      "\n",
      "time_signature has total unique values:5 \n",
      "They are [4 5 3 1 0]\n",
      "\n",
      "month has total unique values:3 \n",
      "They are [7 6 5]\n",
      "\n",
      "day has total unique values:16 \n",
      "They are [15 14 10 11  5 13 30  7  4  6 12 16  9 29 18 19]\n",
      "\n"
     ]
    }
   ],
   "source": [
    "lst = []\n",
    "binary_cols = []\n",
    "for i in df.columns:\n",
    "    if len(df[i].unique()) <= 2:\n",
    "        binary_cols.append(i)        \n",
    "    elif len(df[i].unique()) <= 80:\n",
    "        print('{} has total unique values:{} \\nThey are {}'.format(i, len(df[i].unique()), df[i].unique()))\n",
    "        lst.append(i)\n",
    "        print()"
   ]
  },
  {
   "cell_type": "code",
   "execution_count": null,
   "id": "e031aa77",
   "metadata": {},
   "outputs": [],
   "source": []
  },
  {
   "cell_type": "code",
   "execution_count": 360,
   "id": "2057b57d",
   "metadata": {
    "scrolled": true
   },
   "outputs": [
    {
     "data": {
      "image/png": "[encoded data removed]",
      "text/plain": [
       "<Figure size 432x288 with 1 Axes>"
      ]
     },
     "metadata": {
      "needs_background": "light"
     },
     "output_type": "display_data"
    },
    {
     "data": {
      "image/png": "[encoded data removed]",
      "text/plain": [
       "<Figure size 432x288 with 1 Axes>"
      ]
     },
     "metadata": {
      "needs_background": "light"
     },
     "output_type": "display_data"
    },
    {
     "data": {
      "image/png": "[encoded data removed]",
      "text/plain": [
       "<Figure size 432x288 with 1 Axes>"
      ]
     },
     "metadata": {
      "needs_background": "light"
     },
     "output_type": "display_data"
    },
    {
     "data": {
      "image/png": "[encoded data removed]",
      "text/plain": [
       "<Figure size 432x288 with 1 Axes>"
      ]
     },
     "metadata": {
      "needs_background": "light"
     },
     "output_type": "display_data"
    },
    {
     "data": {
      "image/png": "[encoded data removed]",
      "text/plain": [
       "<Figure size 432x288 with 1 Axes>"
      ]
     },
     "metadata": {
      "needs_background": "light"
     },
     "output_type": "display_data"
    },
    {
     "data": {
      "image/png": "[encoded data removed]",
      "text/plain": [
       "<Figure size 432x288 with 1 Axes>"
      ]
     },
     "metadata": {
      "needs_background": "light"
     },
     "output_type": "display_data"
    },
    {
     "data": {
      "image/png": "[encoded data removed]",
      "text/plain": [
       "<Figure size 432x288 with 1 Axes>"
      ]
     },
     "metadata": {
      "needs_background": "light"
     },
     "output_type": "display_data"
    },
    {
     "data": {
      "image/png": "[encoded data removed]",
      "text/plain": [
       "<Figure size 432x288 with 1 Axes>"
      ]
     },
     "metadata": {
      "needs_background": "light"
     },
     "output_type": "display_data"
    },
    {
     "data": {
      "image/png": "[encoded data removed]",
      "text/plain": [
       "<Figure size 432x288 with 1 Axes>"
      ]
     },
     "metadata": {
      "needs_background": "light"
     },
     "output_type": "display_data"
    }
   ],
   "source": [
    "for i in binary_cols:\n",
    "    sns.countplot(y=i,data=df, hue='skipped')\n",
    "    plt.xticks(fontsize=12)\n",
    "    plt.yticks(fontsize=12)\n",
    "    plt.title(i.title(), fontsize=14)\n",
    "    plt.xlabel('')\n",
    "    plt.ylabel('')\n",
    "    plt.show()"
   ]
  },
  {
   "cell_type": "markdown",
   "id": "3bb4834c",
   "metadata": {},
   "source": [
    "## Observations\n",
    "1. The count of context switch is very less which means people generelly do not change contexts while listening\n",
    "\n",
    "2. The songs which don't have pause before play are generally skipped as compared to the songs which have pause\n",
    "\n",
    "3. maximum songs have short and long pause before play\n",
    "\n",
    "4. Historical behaviour data indicates that the users do not use shuffle mode much.\n",
    "\n",
    "5. Maximum users use premium version\n",
    "\n",
    "6. Maximum songs are from major mode\n"
   ]
  },
  {
   "cell_type": "code",
   "execution_count": 361,
   "id": "ebf9780c",
   "metadata": {
    "scrolled": true
   },
   "outputs": [
    {
     "data": {
      "image/png": "[encoded data removed]",
      "text/plain": [
       "<Figure size 864x576 with 1 Axes>"
      ]
     },
     "metadata": {
      "needs_background": "light"
     },
     "output_type": "display_data"
    },
    {
     "data": {
      "image/png": "[encoded data removed]",
      "text/plain": [
       "<Figure size 864x576 with 1 Axes>"
      ]
     },
     "metadata": {
      "needs_background": "light"
     },
     "output_type": "display_data"
    },
    {
     "data": {
      "image/png": "[encoded data removed]",
      "text/plain": [
       "<Figure size 864x576 with 1 Axes>"
      ]
     },
     "metadata": {
      "needs_background": "light"
     },
     "output_type": "display_data"
    },
    {
     "data": {
      "image/png": "[encoded data removed]",
      "text/plain": [
       "<Figure size 864x576 with 1 Axes>"
      ]
     },
     "metadata": {
      "needs_background": "light"
     },
     "output_type": "display_data"
    },
    {
     "data": {
      "image/png": "[encoded data removed]",
      "text/plain": [
       "<Figure size 864x576 with 1 Axes>"
      ]
     },
     "metadata": {
      "needs_background": "light"
     },
     "output_type": "display_data"
    },
    {
     "data": {
      "image/png": "[encoded data removed]",
      "text/plain": [
       "<Figure size 864x576 with 1 Axes>"
      ]
     },
     "metadata": {
      "needs_background": "light"
     },
     "output_type": "display_data"
    },
    {
     "data": {
      "image/png": "[encoded data removed]",
      "text/plain": [
       "<Figure size 864x576 with 1 Axes>"
      ]
     },
     "metadata": {
      "needs_background": "light"
     },
     "output_type": "display_data"
    },
    {
     "data": {
      "image/png": "[encoded data removed]",
      "text/plain": [
       "<Figure size 864x576 with 1 Axes>"
      ]
     },
     "metadata": {
      "needs_background": "light"
     },
     "output_type": "display_data"
    },
    {
     "data": {
      "image/png": "[encoded data removed]",
      "text/plain": [
       "<Figure size 864x576 with 1 Axes>"
      ]
     },
     "metadata": {
      "needs_background": "light"
     },
     "output_type": "display_data"
    },
    {
     "data": {
      "image/png": "[encoded data removed]",
      "text/plain": [
       "<Figure size 864x576 with 1 Axes>"
      ]
     },
     "metadata": {
      "needs_background": "light"
     },
     "output_type": "display_data"
    },
    {
     "data": {
      "image/png": "[encoded data removed]",
      "text/plain": [
       "<Figure size 864x576 with 1 Axes>"
      ]
     },
     "metadata": {
      "needs_background": "light"
     },
     "output_type": "display_data"
    },
    {
     "data": {
      "image/png": "[encoded data removed]",
      "text/plain": [
       "<Figure size 864x576 with 1 Axes>"
      ]
     },
     "metadata": {
      "needs_background": "light"
     },
     "output_type": "display_data"
    },
    {
     "data": {
      "image/png": "[encoded data removed]",
      "text/plain": [
       "<Figure size 864x576 with 1 Axes>"
      ]
     },
     "metadata": {
      "needs_background": "light"
     },
     "output_type": "display_data"
    }
   ],
   "source": [
    "for i in lst:\n",
    "    plt.figure(figsize=(12,8))\n",
    "    sns.countplot(x=i, data=df, hue='skipped', palette='Dark2')\n",
    "    plt.xticks(rotation=90)\n",
    "    plt.xticks(fontsize=12)\n",
    "    plt.yticks(fontsize=12)\n",
    "    plt.title(i.title(), fontsize=14)\n",
    "    plt.xlabel('')\n",
    "    plt.ylabel('')\n",
    "    plt.show()\n",
    "    "
   ]
  },
  {
   "cell_type": "markdown",
   "id": "b29d7fbe",
   "metadata": {},
   "source": [
    "## Observations\n",
    "1. Maximum songs are present in the first three sessions and minimum in last three sessions. And the songs belonging to 1st session are skipped least as compared to others.\n",
    "\n",
    "\n",
    "2. Maximum skips happened for those songs which are present in the sessions starting from session 4 upto session 10 then no of skips decreased along with the no of songs.\n",
    "\n",
    "\n",
    "3. Maximum count of sessions length is 20 which means users generally listen to music for 20 mins\n",
    "\n",
    "\n",
    "4. The users do not seek forward or backward through the song\n",
    "\n",
    "\n",
    "5. The users do not listen to music much at late nights or early in the morning. The peak listening hours are 1pm to 5pm in the afternoon\n",
    "\n",
    "\n",
    "6. Maximum songs were listened in 15-07-2018\n",
    "\n",
    "\n",
    "7. The maximum number of songs fall under the context user_collection. But songs present in editorial_playlist and catalog are less skipped as compared to user_collection.\n",
    "\n",
    "\n",
    "8. The 'trackdone' category has maximum no of songs that are not skipped after playing and 'fwdbtn' category has most songs skipped. It indicates that the users skipped the song when they try to play the songs by forward option but they didn't skip when the songs are played in general order.\n",
    "\n",
    "\n",
    "9.  Maximum songs are released in 2018\n",
    "\n",
    "\n",
    "10. Maximum songs fall under the category key-1 and minimum under the category key-3\n",
    "\n",
    "\n",
    "11. The most common time signature in music is 4/4\n",
    "\n"
   ]
  },
  {
   "cell_type": "code",
   "execution_count": 362,
   "id": "d26a5164",
   "metadata": {},
   "outputs": [],
   "source": [
    "histogram_cols = ['acousticness','beat_strength', 'bounciness', 'danceability', 'dyn_range_mean',\n",
    "       'energy', 'flatness', 'instrumentalness', 'liveness', 'loudness','mechanism',\n",
    "       'organism', 'speechiness', 'tempo', 'valence', 'acoustic_vector_0', 'acoustic_vector_1',\n",
    "       'acoustic_vector_2', 'acoustic_vector_3', 'acoustic_vector_4',\n",
    "       'acoustic_vector_5', 'acoustic_vector_6', 'acoustic_vector_7']"
   ]
  },
  {
   "cell_type": "markdown",
   "id": "d822cb39",
   "metadata": {},
   "source": [
    "### Outlier Detection"
   ]
  },
  {
   "cell_type": "code",
   "execution_count": 363,
   "id": "b5f0e10e",
   "metadata": {
    "scrolled": true
   },
   "outputs": [
    {
     "name": "stdout",
     "output_type": "stream",
     "text": [
      "******************** acousticness ********************\n"
     ]
    },
    {
     "data": {
      "image/png": "[encoded data removed]",
      "text/plain": [
       "<Figure size 432x288 with 1 Axes>"
      ]
     },
     "metadata": {
      "needs_background": "light"
     },
     "output_type": "display_data"
    },
    {
     "name": "stdout",
     "output_type": "stream",
     "text": [
      "lower limit for outliers: -0.42890213709324615\n",
      "upper limit for outliers: 0.7963804649189116\n",
      "total number of outliers in acousticness is 7463\n",
      "\n",
      "******************** beat_strength ********************\n"
     ]
    },
    {
     "data": {
      "image/png": "[encoded data removed]",
      "text/plain": [
       "<Figure size 432x288 with 1 Axes>"
      ]
     },
     "metadata": {
      "needs_background": "light"
     },
     "output_type": "display_data"
    },
    {
     "name": "stdout",
     "output_type": "stream",
     "text": [
      "lower limit for outliers: 0.0861710496246812\n",
      "upper limit for outliers: 1.0138866789638998\n",
      "total number of outliers in beat_strength is 120\n",
      "\n",
      "******************** bounciness ********************\n"
     ]
    },
    {
     "data": {
      "image/png": "[encoded data removed]",
      "text/plain": [
       "<Figure size 432x288 with 1 Axes>"
      ]
     },
     "metadata": {
      "needs_background": "light"
     },
     "output_type": "display_data"
    },
    {
     "name": "stdout",
     "output_type": "stream",
     "text": [
      "lower limit for outliers: 0.04303647577762604\n",
      "upper limit for outliers: 1.1332653909921646\n",
      "total number of outliers in bounciness is 45\n",
      "\n",
      "******************** danceability ********************\n"
     ]
    },
    {
     "data": {
      "image/png": "[encoded data removed]",
      "text/plain": [
       "<Figure size 432x288 with 1 Axes>"
      ]
     },
     "metadata": {
      "needs_background": "light"
     },
     "output_type": "display_data"
    },
    {
     "name": "stdout",
     "output_type": "stream",
     "text": [
      "lower limit for outliers: 0.22597152739763232\n",
      "upper limit for outliers: 1.1229798868298533\n",
      "total number of outliers in danceability is 1311\n",
      "\n",
      "******************** dyn_range_mean ********************\n"
     ]
    },
    {
     "data": {
      "image/png": "[encoded data removed]",
      "text/plain": [
       "<Figure size 432x288 with 1 Axes>"
      ]
     },
     "metadata": {
      "needs_background": "light"
     },
     "output_type": "display_data"
    },
    {
     "name": "stdout",
     "output_type": "stream",
     "text": [
      "lower limit for outliers: 1.91421568393707\n",
      "upper limit for outliers: 16.075128197669983\n",
      "total number of outliers in dyn_range_mean is 743\n",
      "\n",
      "******************** energy ********************\n"
     ]
    },
    {
     "data": {
      "image/png": "[encoded data removed]",
      "text/plain": [
       "<Figure size 432x288 with 1 Axes>"
      ]
     },
     "metadata": {
      "needs_background": "light"
     },
     "output_type": "display_data"
    },
    {
     "name": "stdout",
     "output_type": "stream",
     "text": [
      "lower limit for outliers: 0.1430390626192093\n",
      "upper limit for outliers: 1.1314980536699295\n",
      "total number of outliers in energy is 1660\n",
      "\n",
      "******************** flatness ********************\n"
     ]
    },
    {
     "data": {
      "image/png": "[encoded data removed]",
      "text/plain": [
       "<Figure size 432x288 with 1 Axes>"
      ]
     },
     "metadata": {
      "needs_background": "light"
     },
     "output_type": "display_data"
    },
    {
     "name": "stdout",
     "output_type": "stream",
     "text": [
      "lower limit for outliers: 0.92215472459793\n",
      "upper limit for outliers: 1.1006868481636056\n",
      "total number of outliers in flatness is 4730\n",
      "\n",
      "******************** instrumentalness ********************\n"
     ]
    },
    {
     "data": {
      "image/png": "[encoded data removed]",
      "text/plain": [
       "<Figure size 432x288 with 1 Axes>"
      ]
     },
     "metadata": {
      "needs_background": "light"
     },
     "output_type": "display_data"
    },
    {
     "name": "stdout",
     "output_type": "stream",
     "text": [
      "lower limit for outliers: -0.0001470273652599552\n",
      "upper limit for outliers: 0.0002450554801023408\n",
      "total number of outliers in instrumentalness is 36170\n",
      "\n",
      "******************** liveness ********************\n"
     ]
    },
    {
     "data": {
      "image/png": "[encoded data removed]",
      "text/plain": [
       "<Figure size 432x288 with 1 Axes>"
      ]
     },
     "metadata": {
      "needs_background": "light"
     },
     "output_type": "display_data"
    },
    {
     "name": "stdout",
     "output_type": "stream",
     "text": [
      "lower limit for outliers: -0.10397185012698186\n",
      "upper limit for outliers: 0.43979986384511005\n",
      "total number of outliers in liveness is 10369\n",
      "\n",
      "******************** loudness ********************\n"
     ]
    },
    {
     "data": {
      "image/png": "[encoded data removed]",
      "text/plain": [
       "<Figure size 432x288 with 1 Axes>"
      ]
     },
     "metadata": {
      "needs_background": "light"
     },
     "output_type": "display_data"
    },
    {
     "name": "stdout",
     "output_type": "stream",
     "text": [
      "lower limit for outliers: -12.955500602722164\n",
      "upper limit for outliers: -0.3594999313354519\n",
      "total number of outliers in loudness is 7220\n",
      "\n",
      "******************** mechanism ********************\n"
     ]
    },
    {
     "data": {
      "image/png": "[encoded data removed]",
      "text/plain": [
       "<Figure size 432x288 with 1 Axes>"
      ]
     },
     "metadata": {
      "needs_background": "light"
     },
     "output_type": "display_data"
    },
    {
     "name": "stdout",
     "output_type": "stream",
     "text": [
      "lower limit for outliers: -0.004240110516548323\n",
      "upper limit for outliers: 1.215044066309929\n",
      "total number of outliers in mechanism is 0\n",
      "\n",
      "******************** organism ********************\n"
     ]
    },
    {
     "data": {
      "image/png": "[encoded data removed]",
      "text/plain": [
       "<Figure size 432x288 with 1 Axes>"
      ]
     },
     "metadata": {
      "needs_background": "light"
     },
     "output_type": "display_data"
    },
    {
     "name": "stdout",
     "output_type": "stream",
     "text": [
      "lower limit for outliers: -0.19232356548309315\n",
      "upper limit for outliers: 0.8675504922866819\n",
      "total number of outliers in organism is 1577\n",
      "\n",
      "******************** speechiness ********************\n"
     ]
    },
    {
     "data": {
      "image/png": "[encoded data removed]",
      "text/plain": [
       "<Figure size 432x288 with 1 Axes>"
      ]
     },
     "metadata": {
      "needs_background": "light"
     },
     "output_type": "display_data"
    },
    {
     "name": "stdout",
     "output_type": "stream",
     "text": [
      "lower limit for outliers: -0.19760443037375802\n",
      "upper limit for outliers: 0.4483680562116204\n",
      "total number of outliers in speechiness is 4928\n",
      "\n",
      "******************** tempo ********************\n"
     ]
    },
    {
     "data": {
      "image/png": "[encoded data removed]",
      "text/plain": [
       "<Figure size 432x288 with 1 Axes>"
      ]
     },
     "metadata": {
      "needs_background": "light"
     },
     "output_type": "display_data"
    },
    {
     "name": "stdout",
     "output_type": "stream",
     "text": [
      "lower limit for outliers: 26.402996063232422\n",
      "upper limit for outliers: 214.67499923706055\n",
      "total number of outliers in tempo is 53\n",
      "\n",
      "******************** valence ********************\n"
     ]
    },
    {
     "data": {
      "image/png": "[encoded data removed]",
      "text/plain": [
       "<Figure size 432x288 with 1 Axes>"
      ]
     },
     "metadata": {
      "needs_background": "light"
     },
     "output_type": "display_data"
    },
    {
     "name": "stdout",
     "output_type": "stream",
     "text": [
      "lower limit for outliers: -0.23928359150886552\n",
      "upper limit for outliers: 1.1457092463970184\n",
      "total number of outliers in valence is 0\n",
      "\n",
      "******************** acoustic_vector_0 ********************\n"
     ]
    },
    {
     "data": {
      "image/png": "[encoded data removed]",
      "text/plain": [
       "<Figure size 432x288 with 1 Axes>"
      ]
     },
     "metadata": {
      "needs_background": "light"
     },
     "output_type": "display_data"
    },
    {
     "name": "stdout",
     "output_type": "stream",
     "text": [
      "lower limit for outliers: -1.7993178032338621\n",
      "upper limit for outliers: 0.7546333707869056\n",
      "total number of outliers in acoustic_vector_0 is 215\n",
      "\n",
      "******************** acoustic_vector_1 ********************\n"
     ]
    },
    {
     "data": {
      "image/png": "[encoded data removed]",
      "text/plain": [
       "<Figure size 432x288 with 1 Axes>"
      ]
     },
     "metadata": {
      "needs_background": "light"
     },
     "output_type": "display_data"
    },
    {
     "name": "stdout",
     "output_type": "stream",
     "text": [
      "lower limit for outliers: 0.002450756728649167\n",
      "upper limit for outliers: 0.5981901809573172\n",
      "total number of outliers in acoustic_vector_1 is 16875\n",
      "\n",
      "******************** acoustic_vector_2 ********************\n"
     ]
    },
    {
     "data": {
      "image/png": "[encoded data removed]",
      "text/plain": [
       "<Figure size 432x288 with 1 Axes>"
      ]
     },
     "metadata": {
      "needs_background": "light"
     },
     "output_type": "display_data"
    },
    {
     "name": "stdout",
     "output_type": "stream",
     "text": [
      "lower limit for outliers: -0.010009853169322153\n",
      "upper limit for outliers: 0.48308964259922516\n",
      "total number of outliers in acoustic_vector_2 is 19021\n",
      "\n",
      "******************** acoustic_vector_3 ********************\n"
     ]
    },
    {
     "data": {
      "image/png": "[encoded data removed]",
      "text/plain": [
       "<Figure size 432x288 with 1 Axes>"
      ]
     },
     "metadata": {
      "needs_background": "light"
     },
     "output_type": "display_data"
    },
    {
     "name": "stdout",
     "output_type": "stream",
     "text": [
      "lower limit for outliers: -0.6279347911477087\n",
      "upper limit for outliers: 0.5917838439345358\n",
      "total number of outliers in acoustic_vector_3 is 6420\n",
      "\n",
      "******************** acoustic_vector_4 ********************\n"
     ]
    },
    {
     "data": {
      "image/png": "[encoded data removed]",
      "text/plain": [
       "<Figure size 432x288 with 1 Axes>"
      ]
     },
     "metadata": {
      "needs_background": "light"
     },
     "output_type": "display_data"
    },
    {
     "name": "stdout",
     "output_type": "stream",
     "text": [
      "lower limit for outliers: -0.7979631889611483\n",
      "upper limit for outliers: 0.4483757000416518\n",
      "total number of outliers in acoustic_vector_4 is 14455\n",
      "\n",
      "******************** acoustic_vector_5 ********************\n"
     ]
    },
    {
     "data": {
      "image/png": "[encoded data removed]",
      "text/plain": [
       "<Figure size 432x288 with 1 Axes>"
      ]
     },
     "metadata": {
      "needs_background": "light"
     },
     "output_type": "display_data"
    },
    {
     "name": "stdout",
     "output_type": "stream",
     "text": [
      "lower limit for outliers: -0.28435334190726264\n",
      "upper limit for outliers: 0.3937545754015444\n",
      "total number of outliers in acoustic_vector_5 is 1640\n",
      "\n",
      "******************** acoustic_vector_6 ********************\n"
     ]
    },
    {
     "data": {
      "image/png": "[encoded data removed]",
      "text/plain": [
       "<Figure size 432x288 with 1 Axes>"
      ]
     },
     "metadata": {
      "needs_background": "light"
     },
     "output_type": "display_data"
    },
    {
     "name": "stdout",
     "output_type": "stream",
     "text": [
      "lower limit for outliers: -0.9534930754452945\n",
      "upper limit for outliers: 0.28303107433021085\n",
      "total number of outliers in acoustic_vector_6 is 11304\n",
      "\n",
      "******************** acoustic_vector_7 ********************\n"
     ]
    },
    {
     "data": {
      "image/png": "[encoded data removed]",
      "text/plain": [
       "<Figure size 432x288 with 1 Axes>"
      ]
     },
     "metadata": {
      "needs_background": "light"
     },
     "output_type": "display_data"
    },
    {
     "name": "stdout",
     "output_type": "stream",
     "text": [
      "lower limit for outliers: -0.34344582795165457\n",
      "upper limit for outliers: 0.5170699658337978\n",
      "total number of outliers in acoustic_vector_7 is 20848\n",
      "\n"
     ]
    }
   ],
   "source": [
    "for i in histogram_cols:\n",
    "    print('*'*20,i,'*'*20)\n",
    "    sns.boxplot(df[i])\n",
    "    plt.show()\n",
    "    q1 = np.percentile(df[i],25)\n",
    "    q3 = np.percentile(df[i],75)\n",
    "    iqr = q3 - q1\n",
    "    lw_lm = q1 - 1.5*iqr\n",
    "    up_lm = q3 + 1.5*iqr\n",
    "    print('lower limit for outliers:',lw_lm)\n",
    "    print('upper limit for outliers:',up_lm)\n",
    "    print('total number of outliers in {} is {}'.format(i,len(df[i][df[i]>up_lm]) + len(df[i][df[i]<lw_lm])))\n",
    "    print()"
   ]
  },
  {
   "cell_type": "markdown",
   "id": "e09b1362",
   "metadata": {},
   "source": [
    "### Outlier capping"
   ]
  },
  {
   "cell_type": "code",
   "execution_count": 364,
   "id": "d64b7718",
   "metadata": {},
   "outputs": [],
   "source": [
    "for i in histogram_cols:\n",
    "    q1 = np.percentile(df[i],25)\n",
    "    q3 = np.percentile(df[i],75)\n",
    "    iqr = q3 - q1\n",
    "    lw_lm = q1 - 1.5*iqr\n",
    "    up_lm = q3 + 1.5*iqr\n",
    "    df[i] = np.where(df[i]>up_lm, up_lm, np.where(df[i]<lw_lm, lw_lm, df[i]))"
   ]
  },
  {
   "cell_type": "code",
   "execution_count": 365,
   "id": "1aefef8e",
   "metadata": {
    "scrolled": true
   },
   "outputs": [
    {
     "data": {
      "image/png": "[encoded data removed]",
      "text/plain": [
       "<Figure size 432x288 with 1 Axes>"
      ]
     },
     "metadata": {
      "needs_background": "light"
     },
     "output_type": "display_data"
    },
    {
     "data": {
      "image/png": "[encoded data removed]",
      "text/plain": [
       "<Figure size 432x288 with 1 Axes>"
      ]
     },
     "metadata": {
      "needs_background": "light"
     },
     "output_type": "display_data"
    },
    {
     "data": {
      "image/png": "[encoded data removed]",
      "text/plain": [
       "<Figure size 432x288 with 1 Axes>"
      ]
     },
     "metadata": {
      "needs_background": "light"
     },
     "output_type": "display_data"
    },
    {
     "data": {
      "image/png": "[encoded data removed]",
      "text/plain": [
       "<Figure size 432x288 with 1 Axes>"
      ]
     },
     "metadata": {
      "needs_background": "light"
     },
     "output_type": "display_data"
    },
    {
     "data": {
      "image/png": "[encoded data removed]",
      "text/plain": [
       "<Figure size 432x288 with 1 Axes>"
      ]
     },
     "metadata": {
      "needs_background": "light"
     },
     "output_type": "display_data"
    },
    {
     "data": {
      "image/png": "[encoded data removed]",
      "text/plain": [
       "<Figure size 432x288 with 1 Axes>"
      ]
     },
     "metadata": {
      "needs_background": "light"
     },
     "output_type": "display_data"
    },
    {
     "data": {
      "image/png": "[encoded data removed]",
      "text/plain": [
       "<Figure size 432x288 with 1 Axes>"
      ]
     },
     "metadata": {
      "needs_background": "light"
     },
     "output_type": "display_data"
    },
    {
     "data": {
      "image/png": "[encoded data removed]",
      "text/plain": [
       "<Figure size 432x288 with 1 Axes>"
      ]
     },
     "metadata": {
      "needs_background": "light"
     },
     "output_type": "display_data"
    },
    {
     "data": {
      "image/png": "[encoded data removed]",
      "text/plain": [
       "<Figure size 432x288 with 1 Axes>"
      ]
     },
     "metadata": {
      "needs_background": "light"
     },
     "output_type": "display_data"
    },
    {
     "data": {
      "image/png": "[encoded data removed]",
      "text/plain": [
       "<Figure size 432x288 with 1 Axes>"
      ]
     },
     "metadata": {
      "needs_background": "light"
     },
     "output_type": "display_data"
    },
    {
     "data": {
      "image/png": "[encoded data removed]",
      "text/plain": [
       "<Figure size 432x288 with 1 Axes>"
      ]
     },
     "metadata": {
      "needs_background": "light"
     },
     "output_type": "display_data"
    },
    {
     "data": {
      "image/png": "[encoded data removed]",
      "text/plain": [
       "<Figure size 432x288 with 1 Axes>"
      ]
     },
     "metadata": {
      "needs_background": "light"
     },
     "output_type": "display_data"
    },
    {
     "data": {
      "image/png": "[encoded data removed]",
      "text/plain": [
       "<Figure size 432x288 with 1 Axes>"
      ]
     },
     "metadata": {
      "needs_background": "light"
     },
     "output_type": "display_data"
    },
    {
     "data": {
      "image/png": "[encoded data removed]",
      "text/plain": [
       "<Figure size 432x288 with 1 Axes>"
      ]
     },
     "metadata": {
      "needs_background": "light"
     },
     "output_type": "display_data"
    },
    {
     "data": {
      "image/png": "[encoded data removed]",
      "text/plain": [
       "<Figure size 432x288 with 1 Axes>"
      ]
     },
     "metadata": {
      "needs_background": "light"
     },
     "output_type": "display_data"
    },
    {
     "data": {
      "image/png": "[encoded data removed]",
      "text/plain": [
       "<Figure size 432x288 with 1 Axes>"
      ]
     },
     "metadata": {
      "needs_background": "light"
     },
     "output_type": "display_data"
    },
    {
     "data": {
      "image/png": "[encoded data removed]",
      "text/plain": [
       "<Figure size 432x288 with 1 Axes>"
      ]
     },
     "metadata": {
      "needs_background": "light"
     },
     "output_type": "display_data"
    },
    {
     "data": {
      "image/png": "[encoded data removed]",
      "text/plain": [
       "<Figure size 432x288 with 1 Axes>"
      ]
     },
     "metadata": {
      "needs_background": "light"
     },
     "output_type": "display_data"
    },
    {
     "data": {
      "image/png": "[encoded data removed]",
      "text/plain": [
       "<Figure size 432x288 with 1 Axes>"
      ]
     },
     "metadata": {
      "needs_background": "light"
     },
     "output_type": "display_data"
    },
    {
     "data": {
      "image/png": "[encoded data removed]",
      "text/plain": [
       "<Figure size 432x288 with 1 Axes>"
      ]
     },
     "metadata": {
      "needs_background": "light"
     },
     "output_type": "display_data"
    },
    {
     "data": {
      "image/png": "[encoded data removed]",
      "text/plain": [
       "<Figure size 432x288 with 1 Axes>"
      ]
     },
     "metadata": {
      "needs_background": "light"
     },
     "output_type": "display_data"
    },
    {
     "data": {
      "image/png": "[encoded data removed]",
      "text/plain": [
       "<Figure size 432x288 with 1 Axes>"
      ]
     },
     "metadata": {
      "needs_background": "light"
     },
     "output_type": "display_data"
    },
    {
     "data": {
      "image/png": "[encoded data removed]",
      "text/plain": [
       "<Figure size 432x288 with 1 Axes>"
      ]
     },
     "metadata": {
      "needs_background": "light"
     },
     "output_type": "display_data"
    }
   ],
   "source": [
    "for i in histogram_cols:\n",
    "    sns.boxplot(df[i])\n",
    "    plt.show()"
   ]
  },
  {
   "cell_type": "markdown",
   "id": "d5988b1b",
   "metadata": {},
   "source": [
    " - After outlier capping we can see the outliers have been replaced by threshold values."
   ]
  },
  {
   "cell_type": "markdown",
   "id": "c0a77e1d",
   "metadata": {},
   "source": [
    "## Conclusion of EDA\n"
   ]
  },
  {
   "cell_type": "markdown",
   "id": "573dbc0f",
   "metadata": {},
   "source": [
    " - The songs which don't have pause before play are generally skipped as compared to the songs which have pause so the song app should provide a pause before songs as it will allow the listener to process the content and comprehend the structure of the music. Without pauses and silences, music will turn monotonous.\n",
    " \n",
    " \n",
    " - Songs present in first three sessions are skipped less so this session positions can also be used as a means for the popularity or commercial success of a particular track.\n",
    " \n",
    " \n",
    " - As the peak listening hours are from 1pm to 5pm in the afternoon so this time period can also be used for promoting new songs\n",
    " \n",
    " \n",
    " - Maximum songs are listened on day 15 of each month followed by day 14. People may be more likely to listen to music on weekends or days off from work, and the 15th of each month happens to fall around the middle of most people's pay periods\n",
    " "
   ]
  },
  {
   "cell_type": "markdown",
   "id": "e346eed1",
   "metadata": {},
   "source": [
    "## One-Hot-Encoding"
   ]
  },
  {
   "cell_type": "code",
   "execution_count": null,
   "id": "0ebbedad",
   "metadata": {},
   "outputs": [],
   "source": []
  },
  {
   "cell_type": "code",
   "execution_count": 366,
   "id": "42e960e7",
   "metadata": {},
   "outputs": [],
   "source": [
    "df = pd.get_dummies(df,columns=['context_type','hist_user_behavior_reason_start','hist_user_behavior_reason_end'])"
   ]
  },
  {
   "cell_type": "code",
   "execution_count": 367,
   "id": "6161536d",
   "metadata": {},
   "outputs": [
    {
     "name": "stdout",
     "output_type": "stream",
     "text": [
      "<class 'pandas.core.frame.DataFrame'>\n",
      "Int64Index: 167880 entries, 0 to 167879\n",
      "Data columns (total 66 columns):\n",
      " #   Column                                      Non-Null Count   Dtype  \n",
      "---  ------                                      --------------   -----  \n",
      " 0   session_position                            167880 non-null  int64  \n",
      " 1   session_length                              167880 non-null  int64  \n",
      " 2   context_switch                              167880 non-null  int64  \n",
      " 3   no_pause_before_play                        167880 non-null  int64  \n",
      " 4   short_pause_before_play                     167880 non-null  int64  \n",
      " 5   long_pause_before_play                      167880 non-null  int64  \n",
      " 6   hist_user_behavior_n_seekfwd                167880 non-null  int64  \n",
      " 7   hist_user_behavior_n_seekback               167880 non-null  int64  \n",
      " 8   hist_user_behavior_is_shuffle               167880 non-null  bool   \n",
      " 9   hour_of_day                                 167880 non-null  int64  \n",
      " 10  premium                                     167880 non-null  bool   \n",
      " 11  duration                                    167880 non-null  float64\n",
      " 12  release_year                                167880 non-null  int64  \n",
      " 13  us_popularity_estimate                      167880 non-null  float64\n",
      " 14  acousticness                                167880 non-null  float64\n",
      " 15  beat_strength                               167880 non-null  float64\n",
      " 16  bounciness                                  167880 non-null  float64\n",
      " 17  danceability                                167880 non-null  float64\n",
      " 18  dyn_range_mean                              167880 non-null  float64\n",
      " 19  energy                                      167880 non-null  float64\n",
      " 20  flatness                                    167880 non-null  float64\n",
      " 21  instrumentalness                            167880 non-null  float64\n",
      " 22  key                                         167880 non-null  int64  \n",
      " 23  liveness                                    167880 non-null  float64\n",
      " 24  loudness                                    167880 non-null  float64\n",
      " 25  mechanism                                   167880 non-null  float64\n",
      " 26  mode                                        167880 non-null  object \n",
      " 27  organism                                    167880 non-null  float64\n",
      " 28  speechiness                                 167880 non-null  float64\n",
      " 29  tempo                                       167880 non-null  float64\n",
      " 30  time_signature                              167880 non-null  int64  \n",
      " 31  valence                                     167880 non-null  float64\n",
      " 32  acoustic_vector_0                           167880 non-null  float64\n",
      " 33  acoustic_vector_1                           167880 non-null  float64\n",
      " 34  acoustic_vector_2                           167880 non-null  float64\n",
      " 35  acoustic_vector_3                           167880 non-null  float64\n",
      " 36  acoustic_vector_4                           167880 non-null  float64\n",
      " 37  acoustic_vector_5                           167880 non-null  float64\n",
      " 38  acoustic_vector_6                           167880 non-null  float64\n",
      " 39  acoustic_vector_7                           167880 non-null  float64\n",
      " 40  skipped                                     167880 non-null  bool   \n",
      " 41  year                                        167880 non-null  int64  \n",
      " 42  month                                       167880 non-null  int64  \n",
      " 43  day                                         167880 non-null  int64  \n",
      " 44  context_type_catalog                        167880 non-null  uint8  \n",
      " 45  context_type_charts                         167880 non-null  uint8  \n",
      " 46  context_type_editorial_playlist             167880 non-null  uint8  \n",
      " 47  context_type_personalized_playlist          167880 non-null  uint8  \n",
      " 48  context_type_radio                          167880 non-null  uint8  \n",
      " 49  context_type_user_collection                167880 non-null  uint8  \n",
      " 50  hist_user_behavior_reason_start_appload     167880 non-null  uint8  \n",
      " 51  hist_user_behavior_reason_start_backbtn     167880 non-null  uint8  \n",
      " 52  hist_user_behavior_reason_start_clickrow    167880 non-null  uint8  \n",
      " 53  hist_user_behavior_reason_start_endplay     167880 non-null  uint8  \n",
      " 54  hist_user_behavior_reason_start_fwdbtn      167880 non-null  uint8  \n",
      " 55  hist_user_behavior_reason_start_playbtn     167880 non-null  uint8  \n",
      " 56  hist_user_behavior_reason_start_remote      167880 non-null  uint8  \n",
      " 57  hist_user_behavior_reason_start_trackdone   167880 non-null  uint8  \n",
      " 58  hist_user_behavior_reason_start_trackerror  167880 non-null  uint8  \n",
      " 59  hist_user_behavior_reason_end_backbtn       167880 non-null  uint8  \n",
      " 60  hist_user_behavior_reason_end_clickrow      167880 non-null  uint8  \n",
      " 61  hist_user_behavior_reason_end_endplay       167880 non-null  uint8  \n",
      " 62  hist_user_behavior_reason_end_fwdbtn        167880 non-null  uint8  \n",
      " 63  hist_user_behavior_reason_end_logout        167880 non-null  uint8  \n",
      " 64  hist_user_behavior_reason_end_remote        167880 non-null  uint8  \n",
      " 65  hist_user_behavior_reason_end_trackdone     167880 non-null  uint8  \n",
      "dtypes: bool(3), float64(25), int64(15), object(1), uint8(22)\n",
      "memory usage: 57.8+ MB\n"
     ]
    }
   ],
   "source": [
    "df.info()"
   ]
  },
  {
   "cell_type": "code",
   "execution_count": null,
   "id": "bea50495",
   "metadata": {},
   "outputs": [],
   "source": []
  },
  {
   "cell_type": "markdown",
   "id": "69ef9e22",
   "metadata": {},
   "source": [
    "## Label Encoding"
   ]
  },
  {
   "cell_type": "code",
   "execution_count": 368,
   "id": "2174698d",
   "metadata": {},
   "outputs": [],
   "source": [
    "encoder = LabelEncoder()"
   ]
  },
  {
   "cell_type": "code",
   "execution_count": 369,
   "id": "d4410bac",
   "metadata": {},
   "outputs": [],
   "source": [
    "df['mode'] = encoder.fit_transform(df['mode'])"
   ]
  },
  {
   "cell_type": "code",
   "execution_count": 370,
   "id": "aed3e83f",
   "metadata": {},
   "outputs": [
    {
     "data": {
      "text/html": [
       "<div>\n",
       "<style scoped>\n",
       "    .dataframe tbody tr th:only-of-type {\n",
       "        vertical-align: middle;\n",
       "    }\n",
       "\n",
       "    .dataframe tbody tr th {\n",
       "        vertical-align: top;\n",
       "    }\n",
       "\n",
       "    .dataframe thead th {\n",
       "        text-align: right;\n",
       "    }\n",
       "</style>\n",
       "<table border=\"1\" class=\"dataframe\">\n",
       "  <thead>\n",
       "    <tr style=\"text-align: right;\">\n",
       "      <th></th>\n",
       "      <th>session_position</th>\n",
       "      <th>session_length</th>\n",
       "      <th>context_switch</th>\n",
       "      <th>no_pause_before_play</th>\n",
       "      <th>short_pause_before_play</th>\n",
       "      <th>long_pause_before_play</th>\n",
       "      <th>hist_user_behavior_n_seekfwd</th>\n",
       "      <th>hist_user_behavior_n_seekback</th>\n",
       "      <th>hist_user_behavior_is_shuffle</th>\n",
       "      <th>hour_of_day</th>\n",
       "      <th>...</th>\n",
       "      <th>hist_user_behavior_reason_start_remote</th>\n",
       "      <th>hist_user_behavior_reason_start_trackdone</th>\n",
       "      <th>hist_user_behavior_reason_start_trackerror</th>\n",
       "      <th>hist_user_behavior_reason_end_backbtn</th>\n",
       "      <th>hist_user_behavior_reason_end_clickrow</th>\n",
       "      <th>hist_user_behavior_reason_end_endplay</th>\n",
       "      <th>hist_user_behavior_reason_end_fwdbtn</th>\n",
       "      <th>hist_user_behavior_reason_end_logout</th>\n",
       "      <th>hist_user_behavior_reason_end_remote</th>\n",
       "      <th>hist_user_behavior_reason_end_trackdone</th>\n",
       "    </tr>\n",
       "  </thead>\n",
       "  <tbody>\n",
       "    <tr>\n",
       "      <th>0</th>\n",
       "      <td>1</td>\n",
       "      <td>20</td>\n",
       "      <td>0</td>\n",
       "      <td>0</td>\n",
       "      <td>0</td>\n",
       "      <td>0</td>\n",
       "      <td>0</td>\n",
       "      <td>0</td>\n",
       "      <td>True</td>\n",
       "      <td>16</td>\n",
       "      <td>...</td>\n",
       "      <td>0</td>\n",
       "      <td>1</td>\n",
       "      <td>0</td>\n",
       "      <td>0</td>\n",
       "      <td>0</td>\n",
       "      <td>0</td>\n",
       "      <td>0</td>\n",
       "      <td>0</td>\n",
       "      <td>0</td>\n",
       "      <td>1</td>\n",
       "    </tr>\n",
       "    <tr>\n",
       "      <th>1</th>\n",
       "      <td>7</td>\n",
       "      <td>12</td>\n",
       "      <td>0</td>\n",
       "      <td>0</td>\n",
       "      <td>1</td>\n",
       "      <td>1</td>\n",
       "      <td>0</td>\n",
       "      <td>0</td>\n",
       "      <td>False</td>\n",
       "      <td>17</td>\n",
       "      <td>...</td>\n",
       "      <td>0</td>\n",
       "      <td>0</td>\n",
       "      <td>0</td>\n",
       "      <td>0</td>\n",
       "      <td>0</td>\n",
       "      <td>1</td>\n",
       "      <td>0</td>\n",
       "      <td>0</td>\n",
       "      <td>0</td>\n",
       "      <td>0</td>\n",
       "    </tr>\n",
       "  </tbody>\n",
       "</table>\n",
       "<p>2 rows × 66 columns</p>\n",
       "</div>"
      ],
      "text/plain": [
       "   session_position  session_length  context_switch  no_pause_before_play  \\\n",
       "0                 1              20               0                     0   \n",
       "1                 7              12               0                     0   \n",
       "\n",
       "   short_pause_before_play  long_pause_before_play  \\\n",
       "0                        0                       0   \n",
       "1                        1                       1   \n",
       "\n",
       "   hist_user_behavior_n_seekfwd  hist_user_behavior_n_seekback  \\\n",
       "0                             0                              0   \n",
       "1                             0                              0   \n",
       "\n",
       "   hist_user_behavior_is_shuffle  hour_of_day  ...  \\\n",
       "0                           True           16  ...   \n",
       "1                          False           17  ...   \n",
       "\n",
       "   hist_user_behavior_reason_start_remote  \\\n",
       "0                                       0   \n",
       "1                                       0   \n",
       "\n",
       "   hist_user_behavior_reason_start_trackdone  \\\n",
       "0                                          1   \n",
       "1                                          0   \n",
       "\n",
       "   hist_user_behavior_reason_start_trackerror  \\\n",
       "0                                           0   \n",
       "1                                           0   \n",
       "\n",
       "   hist_user_behavior_reason_end_backbtn  \\\n",
       "0                                      0   \n",
       "1                                      0   \n",
       "\n",
       "   hist_user_behavior_reason_end_clickrow  \\\n",
       "0                                       0   \n",
       "1                                       0   \n",
       "\n",
       "   hist_user_behavior_reason_end_endplay  \\\n",
       "0                                      0   \n",
       "1                                      1   \n",
       "\n",
       "   hist_user_behavior_reason_end_fwdbtn  hist_user_behavior_reason_end_logout  \\\n",
       "0                                     0                                     0   \n",
       "1                                     0                                     0   \n",
       "\n",
       "   hist_user_behavior_reason_end_remote  \\\n",
       "0                                     0   \n",
       "1                                     0   \n",
       "\n",
       "   hist_user_behavior_reason_end_trackdone  \n",
       "0                                        1  \n",
       "1                                        0  \n",
       "\n",
       "[2 rows x 66 columns]"
      ]
     },
     "execution_count": 370,
     "metadata": {},
     "output_type": "execute_result"
    }
   ],
   "source": [
    "df.head(2)"
   ]
  },
  {
   "cell_type": "markdown",
   "id": "04f7b01c",
   "metadata": {},
   "source": [
    "### Feature selection"
   ]
  },
  {
   "cell_type": "code",
   "execution_count": 371,
   "id": "e8131dc1",
   "metadata": {},
   "outputs": [],
   "source": [
    "from sklearn.feature_selection import mutual_info_regression"
   ]
  },
  {
   "cell_type": "code",
   "execution_count": 372,
   "id": "a4d8b032",
   "metadata": {},
   "outputs": [],
   "source": [
    "X = df.drop('skipped', axis=1)\n",
    "y = df['skipped']"
   ]
  },
  {
   "cell_type": "code",
   "execution_count": 373,
   "id": "502278ec",
   "metadata": {},
   "outputs": [],
   "source": [
    "def make_mi_scores(X, y):\n",
    "    X = X.copy()\n",
    "    mi_scores = mutual_info_regression(X, y, random_state=0)\n",
    "    mi_scores = pd.Series(mi_scores, name=\"MI Scores\", index=X.columns)\n",
    "    mi_scores = mi_scores.sort_values(ascending=False)\n",
    "    return mi_scores"
   ]
  },
  {
   "cell_type": "code",
   "execution_count": 374,
   "id": "7eee9258",
   "metadata": {},
   "outputs": [],
   "source": [
    "def plot_mi_scores(scores):\n",
    "    scores = scores.sort_values(ascending=True)\n",
    "    width = np.arange(len(scores))\n",
    "    ticks = list(scores.index)\n",
    "    plt.barh(width, scores)\n",
    "    plt.yticks(width, ticks)\n",
    "    plt.title(\"Mutual Information Scores\")"
   ]
  },
  {
   "cell_type": "code",
   "execution_count": 375,
   "id": "c4af8946",
   "metadata": {},
   "outputs": [],
   "source": [
    "mi_scores = make_mi_scores(X, y)"
   ]
  },
  {
   "cell_type": "code",
   "execution_count": 376,
   "id": "21852e09",
   "metadata": {},
   "outputs": [
    {
     "data": {
      "image/png": "[encoded data removed]",
      "text/plain": [
       "<Figure size 2000x1500 with 1 Axes>"
      ]
     },
     "metadata": {
      "needs_background": "light"
     },
     "output_type": "display_data"
    }
   ],
   "source": [
    "plt.figure(dpi=100, figsize=(20,15))\n",
    "plot_mi_scores(mi_scores)"
   ]
  },
  {
   "cell_type": "code",
   "execution_count": 377,
   "id": "a20d0702",
   "metadata": {},
   "outputs": [
    {
     "data": {
      "text/plain": [
       "hist_user_behavior_reason_end_trackdone      0.248083\n",
       "hist_user_behavior_reason_start_trackdone    0.159897\n",
       "hist_user_behavior_reason_start_fwdbtn       0.137652\n",
       "hist_user_behavior_reason_end_fwdbtn         0.137410\n",
       "hist_user_behavior_reason_end_backbtn        0.025899\n",
       "no_pause_before_play                         0.015524\n",
       "long_pause_before_play                       0.011225\n",
       "valence                                      0.010522\n",
       "acoustic_vector_6                            0.010429\n",
       "acoustic_vector_5                            0.010273\n",
       "duration                                     0.009729\n",
       "dyn_range_mean                               0.009636\n",
       "acoustic_vector_1                            0.009596\n",
       "organism                                     0.009546\n",
       "energy                                       0.008998\n",
       "acoustic_vector_2                            0.008714\n",
       "us_popularity_estimate                       0.008695\n",
       "bounciness                                   0.008685\n",
       "short_pause_before_play                      0.008441\n",
       "beat_strength                                0.008132\n",
       "Name: MI Scores, dtype: float64"
      ]
     },
     "execution_count": 377,
     "metadata": {},
     "output_type": "execute_result"
    }
   ],
   "source": [
    "mi_scores[:20]"
   ]
  },
  {
   "cell_type": "code",
   "execution_count": 378,
   "id": "7bebbb02",
   "metadata": {},
   "outputs": [],
   "source": [
    "features = mi_scores[:20].index.tolist()"
   ]
  },
  {
   "cell_type": "code",
   "execution_count": 379,
   "id": "088bf1b3",
   "metadata": {},
   "outputs": [
    {
     "data": {
      "text/plain": [
       "['hist_user_behavior_reason_end_trackdone',\n",
       " 'hist_user_behavior_reason_start_trackdone',\n",
       " 'hist_user_behavior_reason_start_fwdbtn',\n",
       " 'hist_user_behavior_reason_end_fwdbtn',\n",
       " 'hist_user_behavior_reason_end_backbtn',\n",
       " 'no_pause_before_play',\n",
       " 'long_pause_before_play',\n",
       " 'valence',\n",
       " 'acoustic_vector_6',\n",
       " 'acoustic_vector_5',\n",
       " 'duration',\n",
       " 'dyn_range_mean',\n",
       " 'acoustic_vector_1',\n",
       " 'organism',\n",
       " 'energy',\n",
       " 'acoustic_vector_2',\n",
       " 'us_popularity_estimate',\n",
       " 'bounciness',\n",
       " 'short_pause_before_play',\n",
       " 'beat_strength']"
      ]
     },
     "execution_count": 379,
     "metadata": {},
     "output_type": "execute_result"
    }
   ],
   "source": [
    "features"
   ]
  },
  {
   "cell_type": "code",
   "execution_count": 380,
   "id": "6d725d2d",
   "metadata": {},
   "outputs": [
    {
     "data": {
      "text/plain": [
       "Index(['hist_user_behavior_reason_end_trackdone',\n",
       "       'hist_user_behavior_reason_start_trackdone',\n",
       "       'hist_user_behavior_reason_start_fwdbtn',\n",
       "       'hist_user_behavior_reason_end_fwdbtn',\n",
       "       'hist_user_behavior_reason_end_backbtn', 'no_pause_before_play',\n",
       "       'long_pause_before_play', 'valence', 'acoustic_vector_6',\n",
       "       'acoustic_vector_5', 'duration', 'dyn_range_mean', 'acoustic_vector_1',\n",
       "       'organism', 'energy', 'acoustic_vector_2', 'us_popularity_estimate',\n",
       "       'bounciness', 'short_pause_before_play', 'beat_strength'],\n",
       "      dtype='object')"
      ]
     },
     "execution_count": 380,
     "metadata": {},
     "output_type": "execute_result"
    }
   ],
   "source": [
    "df[features].columns"
   ]
  },
  {
   "cell_type": "code",
   "execution_count": null,
   "id": "b226bbf1",
   "metadata": {},
   "outputs": [],
   "source": []
  },
  {
   "cell_type": "code",
   "execution_count": 381,
   "id": "5c05f526",
   "metadata": {},
   "outputs": [],
   "source": [
    "final_df = pd.concat([df[features],df['skipped']],axis=1)"
   ]
  },
  {
   "cell_type": "code",
   "execution_count": 382,
   "id": "82c9f0c5",
   "metadata": {},
   "outputs": [
    {
     "data": {
      "text/html": [
       "<div>\n",
       "<style scoped>\n",
       "    .dataframe tbody tr th:only-of-type {\n",
       "        vertical-align: middle;\n",
       "    }\n",
       "\n",
       "    .dataframe tbody tr th {\n",
       "        vertical-align: top;\n",
       "    }\n",
       "\n",
       "    .dataframe thead th {\n",
       "        text-align: right;\n",
       "    }\n",
       "</style>\n",
       "<table border=\"1\" class=\"dataframe\">\n",
       "  <thead>\n",
       "    <tr style=\"text-align: right;\">\n",
       "      <th></th>\n",
       "      <th>hist_user_behavior_reason_end_trackdone</th>\n",
       "      <th>hist_user_behavior_reason_start_trackdone</th>\n",
       "      <th>hist_user_behavior_reason_start_fwdbtn</th>\n",
       "      <th>hist_user_behavior_reason_end_fwdbtn</th>\n",
       "      <th>hist_user_behavior_reason_end_backbtn</th>\n",
       "      <th>no_pause_before_play</th>\n",
       "      <th>long_pause_before_play</th>\n",
       "      <th>valence</th>\n",
       "      <th>acoustic_vector_6</th>\n",
       "      <th>acoustic_vector_5</th>\n",
       "      <th>...</th>\n",
       "      <th>dyn_range_mean</th>\n",
       "      <th>acoustic_vector_1</th>\n",
       "      <th>organism</th>\n",
       "      <th>energy</th>\n",
       "      <th>acoustic_vector_2</th>\n",
       "      <th>us_popularity_estimate</th>\n",
       "      <th>bounciness</th>\n",
       "      <th>short_pause_before_play</th>\n",
       "      <th>beat_strength</th>\n",
       "      <th>skipped</th>\n",
       "    </tr>\n",
       "  </thead>\n",
       "  <tbody>\n",
       "    <tr>\n",
       "      <th>0</th>\n",
       "      <td>1</td>\n",
       "      <td>1</td>\n",
       "      <td>0</td>\n",
       "      <td>0</td>\n",
       "      <td>0</td>\n",
       "      <td>0</td>\n",
       "      <td>0</td>\n",
       "      <td>0.152255</td>\n",
       "      <td>-0.353590</td>\n",
       "      <td>0.015452</td>\n",
       "      <td>...</td>\n",
       "      <td>7.660024</td>\n",
       "      <td>0.386409</td>\n",
       "      <td>0.320668</td>\n",
       "      <td>0.553465</td>\n",
       "      <td>0.230160</td>\n",
       "      <td>99.968133</td>\n",
       "      <td>0.473455</td>\n",
       "      <td>0</td>\n",
       "      <td>0.438551</td>\n",
       "      <td>False</td>\n",
       "    </tr>\n",
       "    <tr>\n",
       "      <th>1</th>\n",
       "      <td>0</td>\n",
       "      <td>0</td>\n",
       "      <td>1</td>\n",
       "      <td>0</td>\n",
       "      <td>0</td>\n",
       "      <td>0</td>\n",
       "      <td>1</td>\n",
       "      <td>0.152255</td>\n",
       "      <td>-0.353590</td>\n",
       "      <td>0.015452</td>\n",
       "      <td>...</td>\n",
       "      <td>7.660024</td>\n",
       "      <td>0.386409</td>\n",
       "      <td>0.320668</td>\n",
       "      <td>0.553465</td>\n",
       "      <td>0.230160</td>\n",
       "      <td>99.968133</td>\n",
       "      <td>0.473455</td>\n",
       "      <td>1</td>\n",
       "      <td>0.438551</td>\n",
       "      <td>False</td>\n",
       "    </tr>\n",
       "    <tr>\n",
       "      <th>2</th>\n",
       "      <td>1</td>\n",
       "      <td>1</td>\n",
       "      <td>0</td>\n",
       "      <td>0</td>\n",
       "      <td>0</td>\n",
       "      <td>0</td>\n",
       "      <td>1</td>\n",
       "      <td>0.152255</td>\n",
       "      <td>-0.353590</td>\n",
       "      <td>0.015452</td>\n",
       "      <td>...</td>\n",
       "      <td>7.660024</td>\n",
       "      <td>0.386409</td>\n",
       "      <td>0.320668</td>\n",
       "      <td>0.553465</td>\n",
       "      <td>0.230160</td>\n",
       "      <td>99.968133</td>\n",
       "      <td>0.473455</td>\n",
       "      <td>1</td>\n",
       "      <td>0.438551</td>\n",
       "      <td>False</td>\n",
       "    </tr>\n",
       "    <tr>\n",
       "      <th>3</th>\n",
       "      <td>1</td>\n",
       "      <td>0</td>\n",
       "      <td>1</td>\n",
       "      <td>0</td>\n",
       "      <td>0</td>\n",
       "      <td>1</td>\n",
       "      <td>0</td>\n",
       "      <td>0.152255</td>\n",
       "      <td>-0.353590</td>\n",
       "      <td>0.015452</td>\n",
       "      <td>...</td>\n",
       "      <td>7.660024</td>\n",
       "      <td>0.386409</td>\n",
       "      <td>0.320668</td>\n",
       "      <td>0.553465</td>\n",
       "      <td>0.230160</td>\n",
       "      <td>99.968133</td>\n",
       "      <td>0.473455</td>\n",
       "      <td>0</td>\n",
       "      <td>0.438551</td>\n",
       "      <td>False</td>\n",
       "    </tr>\n",
       "    <tr>\n",
       "      <th>4</th>\n",
       "      <td>0</td>\n",
       "      <td>1</td>\n",
       "      <td>0</td>\n",
       "      <td>1</td>\n",
       "      <td>0</td>\n",
       "      <td>0</td>\n",
       "      <td>1</td>\n",
       "      <td>0.152255</td>\n",
       "      <td>-0.353590</td>\n",
       "      <td>0.015452</td>\n",
       "      <td>...</td>\n",
       "      <td>7.660024</td>\n",
       "      <td>0.386409</td>\n",
       "      <td>0.320668</td>\n",
       "      <td>0.553465</td>\n",
       "      <td>0.230160</td>\n",
       "      <td>99.968133</td>\n",
       "      <td>0.473455</td>\n",
       "      <td>1</td>\n",
       "      <td>0.438551</td>\n",
       "      <td>False</td>\n",
       "    </tr>\n",
       "    <tr>\n",
       "      <th>...</th>\n",
       "      <td>...</td>\n",
       "      <td>...</td>\n",
       "      <td>...</td>\n",
       "      <td>...</td>\n",
       "      <td>...</td>\n",
       "      <td>...</td>\n",
       "      <td>...</td>\n",
       "      <td>...</td>\n",
       "      <td>...</td>\n",
       "      <td>...</td>\n",
       "      <td>...</td>\n",
       "      <td>...</td>\n",
       "      <td>...</td>\n",
       "      <td>...</td>\n",
       "      <td>...</td>\n",
       "      <td>...</td>\n",
       "      <td>...</td>\n",
       "      <td>...</td>\n",
       "      <td>...</td>\n",
       "      <td>...</td>\n",
       "      <td>...</td>\n",
       "    </tr>\n",
       "    <tr>\n",
       "      <th>167875</th>\n",
       "      <td>0</td>\n",
       "      <td>0</td>\n",
       "      <td>1</td>\n",
       "      <td>1</td>\n",
       "      <td>0</td>\n",
       "      <td>0</td>\n",
       "      <td>1</td>\n",
       "      <td>0.599401</td>\n",
       "      <td>-0.548543</td>\n",
       "      <td>-0.001348</td>\n",
       "      <td>...</td>\n",
       "      <td>11.919822</td>\n",
       "      <td>0.325243</td>\n",
       "      <td>0.206617</td>\n",
       "      <td>0.772188</td>\n",
       "      <td>0.207480</td>\n",
       "      <td>98.762147</td>\n",
       "      <td>0.773838</td>\n",
       "      <td>1</td>\n",
       "      <td>0.700805</td>\n",
       "      <td>True</td>\n",
       "    </tr>\n",
       "    <tr>\n",
       "      <th>167876</th>\n",
       "      <td>0</td>\n",
       "      <td>0</td>\n",
       "      <td>1</td>\n",
       "      <td>1</td>\n",
       "      <td>0</td>\n",
       "      <td>0</td>\n",
       "      <td>1</td>\n",
       "      <td>0.322569</td>\n",
       "      <td>-0.549420</td>\n",
       "      <td>-0.004573</td>\n",
       "      <td>...</td>\n",
       "      <td>11.895762</td>\n",
       "      <td>0.331971</td>\n",
       "      <td>0.445788</td>\n",
       "      <td>0.820989</td>\n",
       "      <td>0.218592</td>\n",
       "      <td>99.849173</td>\n",
       "      <td>0.730292</td>\n",
       "      <td>1</td>\n",
       "      <td>0.601739</td>\n",
       "      <td>True</td>\n",
       "    </tr>\n",
       "    <tr>\n",
       "      <th>167877</th>\n",
       "      <td>1</td>\n",
       "      <td>1</td>\n",
       "      <td>0</td>\n",
       "      <td>0</td>\n",
       "      <td>0</td>\n",
       "      <td>1</td>\n",
       "      <td>0</td>\n",
       "      <td>0.443760</td>\n",
       "      <td>-0.334056</td>\n",
       "      <td>0.083014</td>\n",
       "      <td>...</td>\n",
       "      <td>10.641563</td>\n",
       "      <td>0.383800</td>\n",
       "      <td>0.145850</td>\n",
       "      <td>0.447803</td>\n",
       "      <td>0.367541</td>\n",
       "      <td>99.788573</td>\n",
       "      <td>0.739182</td>\n",
       "      <td>0</td>\n",
       "      <td>0.709752</td>\n",
       "      <td>False</td>\n",
       "    </tr>\n",
       "    <tr>\n",
       "      <th>167878</th>\n",
       "      <td>0</td>\n",
       "      <td>1</td>\n",
       "      <td>0</td>\n",
       "      <td>1</td>\n",
       "      <td>0</td>\n",
       "      <td>0</td>\n",
       "      <td>1</td>\n",
       "      <td>0.416596</td>\n",
       "      <td>-0.546883</td>\n",
       "      <td>-0.047336</td>\n",
       "      <td>...</td>\n",
       "      <td>9.638963</td>\n",
       "      <td>0.346568</td>\n",
       "      <td>0.193747</td>\n",
       "      <td>0.731210</td>\n",
       "      <td>0.250859</td>\n",
       "      <td>99.636870</td>\n",
       "      <td>0.696018</td>\n",
       "      <td>1</td>\n",
       "      <td>0.698399</td>\n",
       "      <td>False</td>\n",
       "    </tr>\n",
       "    <tr>\n",
       "      <th>167879</th>\n",
       "      <td>0</td>\n",
       "      <td>0</td>\n",
       "      <td>1</td>\n",
       "      <td>1</td>\n",
       "      <td>0</td>\n",
       "      <td>0</td>\n",
       "      <td>1</td>\n",
       "      <td>0.583041</td>\n",
       "      <td>-0.573223</td>\n",
       "      <td>-0.047060</td>\n",
       "      <td>...</td>\n",
       "      <td>11.178164</td>\n",
       "      <td>0.275426</td>\n",
       "      <td>0.272376</td>\n",
       "      <td>0.782164</td>\n",
       "      <td>0.203538</td>\n",
       "      <td>99.794210</td>\n",
       "      <td>0.715664</td>\n",
       "      <td>1</td>\n",
       "      <td>0.618732</td>\n",
       "      <td>True</td>\n",
       "    </tr>\n",
       "  </tbody>\n",
       "</table>\n",
       "<p>167880 rows × 21 columns</p>\n",
       "</div>"
      ],
      "text/plain": [
       "        hist_user_behavior_reason_end_trackdone  \\\n",
       "0                                             1   \n",
       "1                                             0   \n",
       "2                                             1   \n",
       "3                                             1   \n",
       "4                                             0   \n",
       "...                                         ...   \n",
       "167875                                        0   \n",
       "167876                                        0   \n",
       "167877                                        1   \n",
       "167878                                        0   \n",
       "167879                                        0   \n",
       "\n",
       "        hist_user_behavior_reason_start_trackdone  \\\n",
       "0                                               1   \n",
       "1                                               0   \n",
       "2                                               1   \n",
       "3                                               0   \n",
       "4                                               1   \n",
       "...                                           ...   \n",
       "167875                                          0   \n",
       "167876                                          0   \n",
       "167877                                          1   \n",
       "167878                                          1   \n",
       "167879                                          0   \n",
       "\n",
       "        hist_user_behavior_reason_start_fwdbtn  \\\n",
       "0                                            0   \n",
       "1                                            1   \n",
       "2                                            0   \n",
       "3                                            1   \n",
       "4                                            0   \n",
       "...                                        ...   \n",
       "167875                                       1   \n",
       "167876                                       1   \n",
       "167877                                       0   \n",
       "167878                                       0   \n",
       "167879                                       1   \n",
       "\n",
       "        hist_user_behavior_reason_end_fwdbtn  \\\n",
       "0                                          0   \n",
       "1                                          0   \n",
       "2                                          0   \n",
       "3                                          0   \n",
       "4                                          1   \n",
       "...                                      ...   \n",
       "167875                                     1   \n",
       "167876                                     1   \n",
       "167877                                     0   \n",
       "167878                                     1   \n",
       "167879                                     1   \n",
       "\n",
       "        hist_user_behavior_reason_end_backbtn  no_pause_before_play  \\\n",
       "0                                           0                     0   \n",
       "1                                           0                     0   \n",
       "2                                           0                     0   \n",
       "3                                           0                     1   \n",
       "4                                           0                     0   \n",
       "...                                       ...                   ...   \n",
       "167875                                      0                     0   \n",
       "167876                                      0                     0   \n",
       "167877                                      0                     1   \n",
       "167878                                      0                     0   \n",
       "167879                                      0                     0   \n",
       "\n",
       "        long_pause_before_play   valence  acoustic_vector_6  \\\n",
       "0                            0  0.152255          -0.353590   \n",
       "1                            1  0.152255          -0.353590   \n",
       "2                            1  0.152255          -0.353590   \n",
       "3                            0  0.152255          -0.353590   \n",
       "4                            1  0.152255          -0.353590   \n",
       "...                        ...       ...                ...   \n",
       "167875                       1  0.599401          -0.548543   \n",
       "167876                       1  0.322569          -0.549420   \n",
       "167877                       0  0.443760          -0.334056   \n",
       "167878                       1  0.416596          -0.546883   \n",
       "167879                       1  0.583041          -0.573223   \n",
       "\n",
       "        acoustic_vector_5  ...  dyn_range_mean  acoustic_vector_1  organism  \\\n",
       "0                0.015452  ...        7.660024           0.386409  0.320668   \n",
       "1                0.015452  ...        7.660024           0.386409  0.320668   \n",
       "2                0.015452  ...        7.660024           0.386409  0.320668   \n",
       "3                0.015452  ...        7.660024           0.386409  0.320668   \n",
       "4                0.015452  ...        7.660024           0.386409  0.320668   \n",
       "...                   ...  ...             ...                ...       ...   \n",
       "167875          -0.001348  ...       11.919822           0.325243  0.206617   \n",
       "167876          -0.004573  ...       11.895762           0.331971  0.445788   \n",
       "167877           0.083014  ...       10.641563           0.383800  0.145850   \n",
       "167878          -0.047336  ...        9.638963           0.346568  0.193747   \n",
       "167879          -0.047060  ...       11.178164           0.275426  0.272376   \n",
       "\n",
       "          energy  acoustic_vector_2  us_popularity_estimate  bounciness  \\\n",
       "0       0.553465           0.230160               99.968133    0.473455   \n",
       "1       0.553465           0.230160               99.968133    0.473455   \n",
       "2       0.553465           0.230160               99.968133    0.473455   \n",
       "3       0.553465           0.230160               99.968133    0.473455   \n",
       "4       0.553465           0.230160               99.968133    0.473455   \n",
       "...          ...                ...                     ...         ...   \n",
       "167875  0.772188           0.207480               98.762147    0.773838   \n",
       "167876  0.820989           0.218592               99.849173    0.730292   \n",
       "167877  0.447803           0.367541               99.788573    0.739182   \n",
       "167878  0.731210           0.250859               99.636870    0.696018   \n",
       "167879  0.782164           0.203538               99.794210    0.715664   \n",
       "\n",
       "        short_pause_before_play  beat_strength  skipped  \n",
       "0                             0       0.438551    False  \n",
       "1                             1       0.438551    False  \n",
       "2                             1       0.438551    False  \n",
       "3                             0       0.438551    False  \n",
       "4                             1       0.438551    False  \n",
       "...                         ...            ...      ...  \n",
       "167875                        1       0.700805     True  \n",
       "167876                        1       0.601739     True  \n",
       "167877                        0       0.709752    False  \n",
       "167878                        1       0.698399    False  \n",
       "167879                        1       0.618732     True  \n",
       "\n",
       "[167880 rows x 21 columns]"
      ]
     },
     "execution_count": 382,
     "metadata": {},
     "output_type": "execute_result"
    }
   ],
   "source": [
    "final_df"
   ]
  },
  {
   "cell_type": "code",
   "execution_count": 383,
   "id": "5bf3703c",
   "metadata": {},
   "outputs": [],
   "source": [
    "final_df['skipped'] = final_df['skipped'].astype(int)"
   ]
  },
  {
   "cell_type": "code",
   "execution_count": 384,
   "id": "8ef516d7",
   "metadata": {},
   "outputs": [
    {
     "data": {
      "text/html": [
       "<div>\n",
       "<style scoped>\n",
       "    .dataframe tbody tr th:only-of-type {\n",
       "        vertical-align: middle;\n",
       "    }\n",
       "\n",
       "    .dataframe tbody tr th {\n",
       "        vertical-align: top;\n",
       "    }\n",
       "\n",
       "    .dataframe thead th {\n",
       "        text-align: right;\n",
       "    }\n",
       "</style>\n",
       "<table border=\"1\" class=\"dataframe\">\n",
       "  <thead>\n",
       "    <tr style=\"text-align: right;\">\n",
       "      <th></th>\n",
       "      <th>hist_user_behavior_reason_end_trackdone</th>\n",
       "      <th>hist_user_behavior_reason_start_trackdone</th>\n",
       "      <th>hist_user_behavior_reason_start_fwdbtn</th>\n",
       "      <th>hist_user_behavior_reason_end_fwdbtn</th>\n",
       "      <th>hist_user_behavior_reason_end_backbtn</th>\n",
       "      <th>no_pause_before_play</th>\n",
       "      <th>long_pause_before_play</th>\n",
       "      <th>valence</th>\n",
       "      <th>acoustic_vector_6</th>\n",
       "      <th>acoustic_vector_5</th>\n",
       "      <th>...</th>\n",
       "      <th>dyn_range_mean</th>\n",
       "      <th>acoustic_vector_1</th>\n",
       "      <th>organism</th>\n",
       "      <th>energy</th>\n",
       "      <th>acoustic_vector_2</th>\n",
       "      <th>us_popularity_estimate</th>\n",
       "      <th>bounciness</th>\n",
       "      <th>short_pause_before_play</th>\n",
       "      <th>beat_strength</th>\n",
       "      <th>skipped</th>\n",
       "    </tr>\n",
       "  </thead>\n",
       "  <tbody>\n",
       "    <tr>\n",
       "      <th>0</th>\n",
       "      <td>1</td>\n",
       "      <td>1</td>\n",
       "      <td>0</td>\n",
       "      <td>0</td>\n",
       "      <td>0</td>\n",
       "      <td>0</td>\n",
       "      <td>0</td>\n",
       "      <td>0.152255</td>\n",
       "      <td>-0.353590</td>\n",
       "      <td>0.015452</td>\n",
       "      <td>...</td>\n",
       "      <td>7.660024</td>\n",
       "      <td>0.386409</td>\n",
       "      <td>0.320668</td>\n",
       "      <td>0.553465</td>\n",
       "      <td>0.230160</td>\n",
       "      <td>99.968133</td>\n",
       "      <td>0.473455</td>\n",
       "      <td>0</td>\n",
       "      <td>0.438551</td>\n",
       "      <td>0</td>\n",
       "    </tr>\n",
       "    <tr>\n",
       "      <th>1</th>\n",
       "      <td>0</td>\n",
       "      <td>0</td>\n",
       "      <td>1</td>\n",
       "      <td>0</td>\n",
       "      <td>0</td>\n",
       "      <td>0</td>\n",
       "      <td>1</td>\n",
       "      <td>0.152255</td>\n",
       "      <td>-0.353590</td>\n",
       "      <td>0.015452</td>\n",
       "      <td>...</td>\n",
       "      <td>7.660024</td>\n",
       "      <td>0.386409</td>\n",
       "      <td>0.320668</td>\n",
       "      <td>0.553465</td>\n",
       "      <td>0.230160</td>\n",
       "      <td>99.968133</td>\n",
       "      <td>0.473455</td>\n",
       "      <td>1</td>\n",
       "      <td>0.438551</td>\n",
       "      <td>0</td>\n",
       "    </tr>\n",
       "    <tr>\n",
       "      <th>2</th>\n",
       "      <td>1</td>\n",
       "      <td>1</td>\n",
       "      <td>0</td>\n",
       "      <td>0</td>\n",
       "      <td>0</td>\n",
       "      <td>0</td>\n",
       "      <td>1</td>\n",
       "      <td>0.152255</td>\n",
       "      <td>-0.353590</td>\n",
       "      <td>0.015452</td>\n",
       "      <td>...</td>\n",
       "      <td>7.660024</td>\n",
       "      <td>0.386409</td>\n",
       "      <td>0.320668</td>\n",
       "      <td>0.553465</td>\n",
       "      <td>0.230160</td>\n",
       "      <td>99.968133</td>\n",
       "      <td>0.473455</td>\n",
       "      <td>1</td>\n",
       "      <td>0.438551</td>\n",
       "      <td>0</td>\n",
       "    </tr>\n",
       "    <tr>\n",
       "      <th>3</th>\n",
       "      <td>1</td>\n",
       "      <td>0</td>\n",
       "      <td>1</td>\n",
       "      <td>0</td>\n",
       "      <td>0</td>\n",
       "      <td>1</td>\n",
       "      <td>0</td>\n",
       "      <td>0.152255</td>\n",
       "      <td>-0.353590</td>\n",
       "      <td>0.015452</td>\n",
       "      <td>...</td>\n",
       "      <td>7.660024</td>\n",
       "      <td>0.386409</td>\n",
       "      <td>0.320668</td>\n",
       "      <td>0.553465</td>\n",
       "      <td>0.230160</td>\n",
       "      <td>99.968133</td>\n",
       "      <td>0.473455</td>\n",
       "      <td>0</td>\n",
       "      <td>0.438551</td>\n",
       "      <td>0</td>\n",
       "    </tr>\n",
       "    <tr>\n",
       "      <th>4</th>\n",
       "      <td>0</td>\n",
       "      <td>1</td>\n",
       "      <td>0</td>\n",
       "      <td>1</td>\n",
       "      <td>0</td>\n",
       "      <td>0</td>\n",
       "      <td>1</td>\n",
       "      <td>0.152255</td>\n",
       "      <td>-0.353590</td>\n",
       "      <td>0.015452</td>\n",
       "      <td>...</td>\n",
       "      <td>7.660024</td>\n",
       "      <td>0.386409</td>\n",
       "      <td>0.320668</td>\n",
       "      <td>0.553465</td>\n",
       "      <td>0.230160</td>\n",
       "      <td>99.968133</td>\n",
       "      <td>0.473455</td>\n",
       "      <td>1</td>\n",
       "      <td>0.438551</td>\n",
       "      <td>0</td>\n",
       "    </tr>\n",
       "    <tr>\n",
       "      <th>...</th>\n",
       "      <td>...</td>\n",
       "      <td>...</td>\n",
       "      <td>...</td>\n",
       "      <td>...</td>\n",
       "      <td>...</td>\n",
       "      <td>...</td>\n",
       "      <td>...</td>\n",
       "      <td>...</td>\n",
       "      <td>...</td>\n",
       "      <td>...</td>\n",
       "      <td>...</td>\n",
       "      <td>...</td>\n",
       "      <td>...</td>\n",
       "      <td>...</td>\n",
       "      <td>...</td>\n",
       "      <td>...</td>\n",
       "      <td>...</td>\n",
       "      <td>...</td>\n",
       "      <td>...</td>\n",
       "      <td>...</td>\n",
       "      <td>...</td>\n",
       "    </tr>\n",
       "    <tr>\n",
       "      <th>167875</th>\n",
       "      <td>0</td>\n",
       "      <td>0</td>\n",
       "      <td>1</td>\n",
       "      <td>1</td>\n",
       "      <td>0</td>\n",
       "      <td>0</td>\n",
       "      <td>1</td>\n",
       "      <td>0.599401</td>\n",
       "      <td>-0.548543</td>\n",
       "      <td>-0.001348</td>\n",
       "      <td>...</td>\n",
       "      <td>11.919822</td>\n",
       "      <td>0.325243</td>\n",
       "      <td>0.206617</td>\n",
       "      <td>0.772188</td>\n",
       "      <td>0.207480</td>\n",
       "      <td>98.762147</td>\n",
       "      <td>0.773838</td>\n",
       "      <td>1</td>\n",
       "      <td>0.700805</td>\n",
       "      <td>1</td>\n",
       "    </tr>\n",
       "    <tr>\n",
       "      <th>167876</th>\n",
       "      <td>0</td>\n",
       "      <td>0</td>\n",
       "      <td>1</td>\n",
       "      <td>1</td>\n",
       "      <td>0</td>\n",
       "      <td>0</td>\n",
       "      <td>1</td>\n",
       "      <td>0.322569</td>\n",
       "      <td>-0.549420</td>\n",
       "      <td>-0.004573</td>\n",
       "      <td>...</td>\n",
       "      <td>11.895762</td>\n",
       "      <td>0.331971</td>\n",
       "      <td>0.445788</td>\n",
       "      <td>0.820989</td>\n",
       "      <td>0.218592</td>\n",
       "      <td>99.849173</td>\n",
       "      <td>0.730292</td>\n",
       "      <td>1</td>\n",
       "      <td>0.601739</td>\n",
       "      <td>1</td>\n",
       "    </tr>\n",
       "    <tr>\n",
       "      <th>167877</th>\n",
       "      <td>1</td>\n",
       "      <td>1</td>\n",
       "      <td>0</td>\n",
       "      <td>0</td>\n",
       "      <td>0</td>\n",
       "      <td>1</td>\n",
       "      <td>0</td>\n",
       "      <td>0.443760</td>\n",
       "      <td>-0.334056</td>\n",
       "      <td>0.083014</td>\n",
       "      <td>...</td>\n",
       "      <td>10.641563</td>\n",
       "      <td>0.383800</td>\n",
       "      <td>0.145850</td>\n",
       "      <td>0.447803</td>\n",
       "      <td>0.367541</td>\n",
       "      <td>99.788573</td>\n",
       "      <td>0.739182</td>\n",
       "      <td>0</td>\n",
       "      <td>0.709752</td>\n",
       "      <td>0</td>\n",
       "    </tr>\n",
       "    <tr>\n",
       "      <th>167878</th>\n",
       "      <td>0</td>\n",
       "      <td>1</td>\n",
       "      <td>0</td>\n",
       "      <td>1</td>\n",
       "      <td>0</td>\n",
       "      <td>0</td>\n",
       "      <td>1</td>\n",
       "      <td>0.416596</td>\n",
       "      <td>-0.546883</td>\n",
       "      <td>-0.047336</td>\n",
       "      <td>...</td>\n",
       "      <td>9.638963</td>\n",
       "      <td>0.346568</td>\n",
       "      <td>0.193747</td>\n",
       "      <td>0.731210</td>\n",
       "      <td>0.250859</td>\n",
       "      <td>99.636870</td>\n",
       "      <td>0.696018</td>\n",
       "      <td>1</td>\n",
       "      <td>0.698399</td>\n",
       "      <td>0</td>\n",
       "    </tr>\n",
       "    <tr>\n",
       "      <th>167879</th>\n",
       "      <td>0</td>\n",
       "      <td>0</td>\n",
       "      <td>1</td>\n",
       "      <td>1</td>\n",
       "      <td>0</td>\n",
       "      <td>0</td>\n",
       "      <td>1</td>\n",
       "      <td>0.583041</td>\n",
       "      <td>-0.573223</td>\n",
       "      <td>-0.047060</td>\n",
       "      <td>...</td>\n",
       "      <td>11.178164</td>\n",
       "      <td>0.275426</td>\n",
       "      <td>0.272376</td>\n",
       "      <td>0.782164</td>\n",
       "      <td>0.203538</td>\n",
       "      <td>99.794210</td>\n",
       "      <td>0.715664</td>\n",
       "      <td>1</td>\n",
       "      <td>0.618732</td>\n",
       "      <td>1</td>\n",
       "    </tr>\n",
       "  </tbody>\n",
       "</table>\n",
       "<p>167880 rows × 21 columns</p>\n",
       "</div>"
      ],
      "text/plain": [
       "        hist_user_behavior_reason_end_trackdone  \\\n",
       "0                                             1   \n",
       "1                                             0   \n",
       "2                                             1   \n",
       "3                                             1   \n",
       "4                                             0   \n",
       "...                                         ...   \n",
       "167875                                        0   \n",
       "167876                                        0   \n",
       "167877                                        1   \n",
       "167878                                        0   \n",
       "167879                                        0   \n",
       "\n",
       "        hist_user_behavior_reason_start_trackdone  \\\n",
       "0                                               1   \n",
       "1                                               0   \n",
       "2                                               1   \n",
       "3                                               0   \n",
       "4                                               1   \n",
       "...                                           ...   \n",
       "167875                                          0   \n",
       "167876                                          0   \n",
       "167877                                          1   \n",
       "167878                                          1   \n",
       "167879                                          0   \n",
       "\n",
       "        hist_user_behavior_reason_start_fwdbtn  \\\n",
       "0                                            0   \n",
       "1                                            1   \n",
       "2                                            0   \n",
       "3                                            1   \n",
       "4                                            0   \n",
       "...                                        ...   \n",
       "167875                                       1   \n",
       "167876                                       1   \n",
       "167877                                       0   \n",
       "167878                                       0   \n",
       "167879                                       1   \n",
       "\n",
       "        hist_user_behavior_reason_end_fwdbtn  \\\n",
       "0                                          0   \n",
       "1                                          0   \n",
       "2                                          0   \n",
       "3                                          0   \n",
       "4                                          1   \n",
       "...                                      ...   \n",
       "167875                                     1   \n",
       "167876                                     1   \n",
       "167877                                     0   \n",
       "167878                                     1   \n",
       "167879                                     1   \n",
       "\n",
       "        hist_user_behavior_reason_end_backbtn  no_pause_before_play  \\\n",
       "0                                           0                     0   \n",
       "1                                           0                     0   \n",
       "2                                           0                     0   \n",
       "3                                           0                     1   \n",
       "4                                           0                     0   \n",
       "...                                       ...                   ...   \n",
       "167875                                      0                     0   \n",
       "167876                                      0                     0   \n",
       "167877                                      0                     1   \n",
       "167878                                      0                     0   \n",
       "167879                                      0                     0   \n",
       "\n",
       "        long_pause_before_play   valence  acoustic_vector_6  \\\n",
       "0                            0  0.152255          -0.353590   \n",
       "1                            1  0.152255          -0.353590   \n",
       "2                            1  0.152255          -0.353590   \n",
       "3                            0  0.152255          -0.353590   \n",
       "4                            1  0.152255          -0.353590   \n",
       "...                        ...       ...                ...   \n",
       "167875                       1  0.599401          -0.548543   \n",
       "167876                       1  0.322569          -0.549420   \n",
       "167877                       0  0.443760          -0.334056   \n",
       "167878                       1  0.416596          -0.546883   \n",
       "167879                       1  0.583041          -0.573223   \n",
       "\n",
       "        acoustic_vector_5  ...  dyn_range_mean  acoustic_vector_1  organism  \\\n",
       "0                0.015452  ...        7.660024           0.386409  0.320668   \n",
       "1                0.015452  ...        7.660024           0.386409  0.320668   \n",
       "2                0.015452  ...        7.660024           0.386409  0.320668   \n",
       "3                0.015452  ...        7.660024           0.386409  0.320668   \n",
       "4                0.015452  ...        7.660024           0.386409  0.320668   \n",
       "...                   ...  ...             ...                ...       ...   \n",
       "167875          -0.001348  ...       11.919822           0.325243  0.206617   \n",
       "167876          -0.004573  ...       11.895762           0.331971  0.445788   \n",
       "167877           0.083014  ...       10.641563           0.383800  0.145850   \n",
       "167878          -0.047336  ...        9.638963           0.346568  0.193747   \n",
       "167879          -0.047060  ...       11.178164           0.275426  0.272376   \n",
       "\n",
       "          energy  acoustic_vector_2  us_popularity_estimate  bounciness  \\\n",
       "0       0.553465           0.230160               99.968133    0.473455   \n",
       "1       0.553465           0.230160               99.968133    0.473455   \n",
       "2       0.553465           0.230160               99.968133    0.473455   \n",
       "3       0.553465           0.230160               99.968133    0.473455   \n",
       "4       0.553465           0.230160               99.968133    0.473455   \n",
       "...          ...                ...                     ...         ...   \n",
       "167875  0.772188           0.207480               98.762147    0.773838   \n",
       "167876  0.820989           0.218592               99.849173    0.730292   \n",
       "167877  0.447803           0.367541               99.788573    0.739182   \n",
       "167878  0.731210           0.250859               99.636870    0.696018   \n",
       "167879  0.782164           0.203538               99.794210    0.715664   \n",
       "\n",
       "        short_pause_before_play  beat_strength  skipped  \n",
       "0                             0       0.438551        0  \n",
       "1                             1       0.438551        0  \n",
       "2                             1       0.438551        0  \n",
       "3                             0       0.438551        0  \n",
       "4                             1       0.438551        0  \n",
       "...                         ...            ...      ...  \n",
       "167875                        1       0.700805        1  \n",
       "167876                        1       0.601739        1  \n",
       "167877                        0       0.709752        0  \n",
       "167878                        1       0.698399        0  \n",
       "167879                        1       0.618732        1  \n",
       "\n",
       "[167880 rows x 21 columns]"
      ]
     },
     "execution_count": 384,
     "metadata": {},
     "output_type": "execute_result"
    }
   ],
   "source": [
    "final_df"
   ]
  },
  {
   "cell_type": "code",
   "execution_count": 385,
   "id": "56e79a95",
   "metadata": {},
   "outputs": [],
   "source": [
    "col_map = {\n",
    "    \n",
    " 'hist_user_behavior_reason_end_trackdone': 'end_trackdone',\n",
    " 'hist_user_behavior_reason_start_trackdone': 'start_trackdone',\n",
    " 'hist_user_behavior_reason_start_fwdbtn': 'start_fwdbtn',\n",
    " 'hist_user_behavior_reason_end_fwdbtn': 'end_fwdbtn' ,\n",
    " 'hist_user_behavior_reason_end_backbtn': 'end_backbtn',\n",
    " 'no_pause_before_play': 'no_pause_before_play',\n",
    " 'long_pause_before_play': 'long_pause_before_play',\n",
    " 'valence': 'valence',\n",
    " 'acoustic_vector_6': 'vector_6',\n",
    " 'acoustic_vector_5': 'vector_5',\n",
    " 'duration':'duration',\n",
    " 'dyn_range_mean': 'dyn_range_mean',\n",
    " 'acoustic_vector_1': 'vector_1',\n",
    " 'organism': 'organism',\n",
    " 'energy': 'energy',\n",
    " 'acoustic_vector_2': 'vector_2',\n",
    " 'us_popularity_estimate': 'us_popularity',\n",
    " 'bounciness': 'bounciness',\n",
    " 'short_pause_before_play': 'short_pause_before_play',\n",
    " 'beat_strength': 'beat_strength'\n",
    "    \n",
    "}"
   ]
  },
  {
   "cell_type": "code",
   "execution_count": 386,
   "id": "b28d4484",
   "metadata": {},
   "outputs": [],
   "source": [
    "final_df.rename(columns=col_map, inplace=True)"
   ]
  },
  {
   "cell_type": "code",
   "execution_count": 387,
   "id": "202af2ee",
   "metadata": {
    "scrolled": false
   },
   "outputs": [
    {
     "data": {
      "text/html": [
       "<div>\n",
       "<style scoped>\n",
       "    .dataframe tbody tr th:only-of-type {\n",
       "        vertical-align: middle;\n",
       "    }\n",
       "\n",
       "    .dataframe tbody tr th {\n",
       "        vertical-align: top;\n",
       "    }\n",
       "\n",
       "    .dataframe thead th {\n",
       "        text-align: right;\n",
       "    }\n",
       "</style>\n",
       "<table border=\"1\" class=\"dataframe\">\n",
       "  <thead>\n",
       "    <tr style=\"text-align: right;\">\n",
       "      <th></th>\n",
       "      <th>end_trackdone</th>\n",
       "      <th>start_trackdone</th>\n",
       "      <th>start_fwdbtn</th>\n",
       "      <th>end_fwdbtn</th>\n",
       "      <th>end_backbtn</th>\n",
       "      <th>no_pause_before_play</th>\n",
       "      <th>long_pause_before_play</th>\n",
       "      <th>valence</th>\n",
       "      <th>vector_6</th>\n",
       "      <th>vector_5</th>\n",
       "      <th>...</th>\n",
       "      <th>dyn_range_mean</th>\n",
       "      <th>vector_1</th>\n",
       "      <th>organism</th>\n",
       "      <th>energy</th>\n",
       "      <th>vector_2</th>\n",
       "      <th>us_popularity</th>\n",
       "      <th>bounciness</th>\n",
       "      <th>short_pause_before_play</th>\n",
       "      <th>beat_strength</th>\n",
       "      <th>skipped</th>\n",
       "    </tr>\n",
       "  </thead>\n",
       "  <tbody>\n",
       "    <tr>\n",
       "      <th>0</th>\n",
       "      <td>1</td>\n",
       "      <td>1</td>\n",
       "      <td>0</td>\n",
       "      <td>0</td>\n",
       "      <td>0</td>\n",
       "      <td>0</td>\n",
       "      <td>0</td>\n",
       "      <td>0.152255</td>\n",
       "      <td>-0.353590</td>\n",
       "      <td>0.015452</td>\n",
       "      <td>...</td>\n",
       "      <td>7.660024</td>\n",
       "      <td>0.386409</td>\n",
       "      <td>0.320668</td>\n",
       "      <td>0.553465</td>\n",
       "      <td>0.230160</td>\n",
       "      <td>99.968133</td>\n",
       "      <td>0.473455</td>\n",
       "      <td>0</td>\n",
       "      <td>0.438551</td>\n",
       "      <td>0</td>\n",
       "    </tr>\n",
       "    <tr>\n",
       "      <th>1</th>\n",
       "      <td>0</td>\n",
       "      <td>0</td>\n",
       "      <td>1</td>\n",
       "      <td>0</td>\n",
       "      <td>0</td>\n",
       "      <td>0</td>\n",
       "      <td>1</td>\n",
       "      <td>0.152255</td>\n",
       "      <td>-0.353590</td>\n",
       "      <td>0.015452</td>\n",
       "      <td>...</td>\n",
       "      <td>7.660024</td>\n",
       "      <td>0.386409</td>\n",
       "      <td>0.320668</td>\n",
       "      <td>0.553465</td>\n",
       "      <td>0.230160</td>\n",
       "      <td>99.968133</td>\n",
       "      <td>0.473455</td>\n",
       "      <td>1</td>\n",
       "      <td>0.438551</td>\n",
       "      <td>0</td>\n",
       "    </tr>\n",
       "    <tr>\n",
       "      <th>2</th>\n",
       "      <td>1</td>\n",
       "      <td>1</td>\n",
       "      <td>0</td>\n",
       "      <td>0</td>\n",
       "      <td>0</td>\n",
       "      <td>0</td>\n",
       "      <td>1</td>\n",
       "      <td>0.152255</td>\n",
       "      <td>-0.353590</td>\n",
       "      <td>0.015452</td>\n",
       "      <td>...</td>\n",
       "      <td>7.660024</td>\n",
       "      <td>0.386409</td>\n",
       "      <td>0.320668</td>\n",
       "      <td>0.553465</td>\n",
       "      <td>0.230160</td>\n",
       "      <td>99.968133</td>\n",
       "      <td>0.473455</td>\n",
       "      <td>1</td>\n",
       "      <td>0.438551</td>\n",
       "      <td>0</td>\n",
       "    </tr>\n",
       "    <tr>\n",
       "      <th>3</th>\n",
       "      <td>1</td>\n",
       "      <td>0</td>\n",
       "      <td>1</td>\n",
       "      <td>0</td>\n",
       "      <td>0</td>\n",
       "      <td>1</td>\n",
       "      <td>0</td>\n",
       "      <td>0.152255</td>\n",
       "      <td>-0.353590</td>\n",
       "      <td>0.015452</td>\n",
       "      <td>...</td>\n",
       "      <td>7.660024</td>\n",
       "      <td>0.386409</td>\n",
       "      <td>0.320668</td>\n",
       "      <td>0.553465</td>\n",
       "      <td>0.230160</td>\n",
       "      <td>99.968133</td>\n",
       "      <td>0.473455</td>\n",
       "      <td>0</td>\n",
       "      <td>0.438551</td>\n",
       "      <td>0</td>\n",
       "    </tr>\n",
       "    <tr>\n",
       "      <th>4</th>\n",
       "      <td>0</td>\n",
       "      <td>1</td>\n",
       "      <td>0</td>\n",
       "      <td>1</td>\n",
       "      <td>0</td>\n",
       "      <td>0</td>\n",
       "      <td>1</td>\n",
       "      <td>0.152255</td>\n",
       "      <td>-0.353590</td>\n",
       "      <td>0.015452</td>\n",
       "      <td>...</td>\n",
       "      <td>7.660024</td>\n",
       "      <td>0.386409</td>\n",
       "      <td>0.320668</td>\n",
       "      <td>0.553465</td>\n",
       "      <td>0.230160</td>\n",
       "      <td>99.968133</td>\n",
       "      <td>0.473455</td>\n",
       "      <td>1</td>\n",
       "      <td>0.438551</td>\n",
       "      <td>0</td>\n",
       "    </tr>\n",
       "    <tr>\n",
       "      <th>...</th>\n",
       "      <td>...</td>\n",
       "      <td>...</td>\n",
       "      <td>...</td>\n",
       "      <td>...</td>\n",
       "      <td>...</td>\n",
       "      <td>...</td>\n",
       "      <td>...</td>\n",
       "      <td>...</td>\n",
       "      <td>...</td>\n",
       "      <td>...</td>\n",
       "      <td>...</td>\n",
       "      <td>...</td>\n",
       "      <td>...</td>\n",
       "      <td>...</td>\n",
       "      <td>...</td>\n",
       "      <td>...</td>\n",
       "      <td>...</td>\n",
       "      <td>...</td>\n",
       "      <td>...</td>\n",
       "      <td>...</td>\n",
       "      <td>...</td>\n",
       "    </tr>\n",
       "    <tr>\n",
       "      <th>167875</th>\n",
       "      <td>0</td>\n",
       "      <td>0</td>\n",
       "      <td>1</td>\n",
       "      <td>1</td>\n",
       "      <td>0</td>\n",
       "      <td>0</td>\n",
       "      <td>1</td>\n",
       "      <td>0.599401</td>\n",
       "      <td>-0.548543</td>\n",
       "      <td>-0.001348</td>\n",
       "      <td>...</td>\n",
       "      <td>11.919822</td>\n",
       "      <td>0.325243</td>\n",
       "      <td>0.206617</td>\n",
       "      <td>0.772188</td>\n",
       "      <td>0.207480</td>\n",
       "      <td>98.762147</td>\n",
       "      <td>0.773838</td>\n",
       "      <td>1</td>\n",
       "      <td>0.700805</td>\n",
       "      <td>1</td>\n",
       "    </tr>\n",
       "    <tr>\n",
       "      <th>167876</th>\n",
       "      <td>0</td>\n",
       "      <td>0</td>\n",
       "      <td>1</td>\n",
       "      <td>1</td>\n",
       "      <td>0</td>\n",
       "      <td>0</td>\n",
       "      <td>1</td>\n",
       "      <td>0.322569</td>\n",
       "      <td>-0.549420</td>\n",
       "      <td>-0.004573</td>\n",
       "      <td>...</td>\n",
       "      <td>11.895762</td>\n",
       "      <td>0.331971</td>\n",
       "      <td>0.445788</td>\n",
       "      <td>0.820989</td>\n",
       "      <td>0.218592</td>\n",
       "      <td>99.849173</td>\n",
       "      <td>0.730292</td>\n",
       "      <td>1</td>\n",
       "      <td>0.601739</td>\n",
       "      <td>1</td>\n",
       "    </tr>\n",
       "    <tr>\n",
       "      <th>167877</th>\n",
       "      <td>1</td>\n",
       "      <td>1</td>\n",
       "      <td>0</td>\n",
       "      <td>0</td>\n",
       "      <td>0</td>\n",
       "      <td>1</td>\n",
       "      <td>0</td>\n",
       "      <td>0.443760</td>\n",
       "      <td>-0.334056</td>\n",
       "      <td>0.083014</td>\n",
       "      <td>...</td>\n",
       "      <td>10.641563</td>\n",
       "      <td>0.383800</td>\n",
       "      <td>0.145850</td>\n",
       "      <td>0.447803</td>\n",
       "      <td>0.367541</td>\n",
       "      <td>99.788573</td>\n",
       "      <td>0.739182</td>\n",
       "      <td>0</td>\n",
       "      <td>0.709752</td>\n",
       "      <td>0</td>\n",
       "    </tr>\n",
       "    <tr>\n",
       "      <th>167878</th>\n",
       "      <td>0</td>\n",
       "      <td>1</td>\n",
       "      <td>0</td>\n",
       "      <td>1</td>\n",
       "      <td>0</td>\n",
       "      <td>0</td>\n",
       "      <td>1</td>\n",
       "      <td>0.416596</td>\n",
       "      <td>-0.546883</td>\n",
       "      <td>-0.047336</td>\n",
       "      <td>...</td>\n",
       "      <td>9.638963</td>\n",
       "      <td>0.346568</td>\n",
       "      <td>0.193747</td>\n",
       "      <td>0.731210</td>\n",
       "      <td>0.250859</td>\n",
       "      <td>99.636870</td>\n",
       "      <td>0.696018</td>\n",
       "      <td>1</td>\n",
       "      <td>0.698399</td>\n",
       "      <td>0</td>\n",
       "    </tr>\n",
       "    <tr>\n",
       "      <th>167879</th>\n",
       "      <td>0</td>\n",
       "      <td>0</td>\n",
       "      <td>1</td>\n",
       "      <td>1</td>\n",
       "      <td>0</td>\n",
       "      <td>0</td>\n",
       "      <td>1</td>\n",
       "      <td>0.583041</td>\n",
       "      <td>-0.573223</td>\n",
       "      <td>-0.047060</td>\n",
       "      <td>...</td>\n",
       "      <td>11.178164</td>\n",
       "      <td>0.275426</td>\n",
       "      <td>0.272376</td>\n",
       "      <td>0.782164</td>\n",
       "      <td>0.203538</td>\n",
       "      <td>99.794210</td>\n",
       "      <td>0.715664</td>\n",
       "      <td>1</td>\n",
       "      <td>0.618732</td>\n",
       "      <td>1</td>\n",
       "    </tr>\n",
       "  </tbody>\n",
       "</table>\n",
       "<p>167880 rows × 21 columns</p>\n",
       "</div>"
      ],
      "text/plain": [
       "        end_trackdone  start_trackdone  start_fwdbtn  end_fwdbtn  end_backbtn  \\\n",
       "0                   1                1             0           0            0   \n",
       "1                   0                0             1           0            0   \n",
       "2                   1                1             0           0            0   \n",
       "3                   1                0             1           0            0   \n",
       "4                   0                1             0           1            0   \n",
       "...               ...              ...           ...         ...          ...   \n",
       "167875              0                0             1           1            0   \n",
       "167876              0                0             1           1            0   \n",
       "167877              1                1             0           0            0   \n",
       "167878              0                1             0           1            0   \n",
       "167879              0                0             1           1            0   \n",
       "\n",
       "        no_pause_before_play  long_pause_before_play   valence  vector_6  \\\n",
       "0                          0                       0  0.152255 -0.353590   \n",
       "1                          0                       1  0.152255 -0.353590   \n",
       "2                          0                       1  0.152255 -0.353590   \n",
       "3                          1                       0  0.152255 -0.353590   \n",
       "4                          0                       1  0.152255 -0.353590   \n",
       "...                      ...                     ...       ...       ...   \n",
       "167875                     0                       1  0.599401 -0.548543   \n",
       "167876                     0                       1  0.322569 -0.549420   \n",
       "167877                     1                       0  0.443760 -0.334056   \n",
       "167878                     0                       1  0.416596 -0.546883   \n",
       "167879                     0                       1  0.583041 -0.573223   \n",
       "\n",
       "        vector_5  ...  dyn_range_mean  vector_1  organism    energy  vector_2  \\\n",
       "0       0.015452  ...        7.660024  0.386409  0.320668  0.553465  0.230160   \n",
       "1       0.015452  ...        7.660024  0.386409  0.320668  0.553465  0.230160   \n",
       "2       0.015452  ...        7.660024  0.386409  0.320668  0.553465  0.230160   \n",
       "3       0.015452  ...        7.660024  0.386409  0.320668  0.553465  0.230160   \n",
       "4       0.015452  ...        7.660024  0.386409  0.320668  0.553465  0.230160   \n",
       "...          ...  ...             ...       ...       ...       ...       ...   \n",
       "167875 -0.001348  ...       11.919822  0.325243  0.206617  0.772188  0.207480   \n",
       "167876 -0.004573  ...       11.895762  0.331971  0.445788  0.820989  0.218592   \n",
       "167877  0.083014  ...       10.641563  0.383800  0.145850  0.447803  0.367541   \n",
       "167878 -0.047336  ...        9.638963  0.346568  0.193747  0.731210  0.250859   \n",
       "167879 -0.047060  ...       11.178164  0.275426  0.272376  0.782164  0.203538   \n",
       "\n",
       "        us_popularity  bounciness  short_pause_before_play  beat_strength  \\\n",
       "0           99.968133    0.473455                        0       0.438551   \n",
       "1           99.968133    0.473455                        1       0.438551   \n",
       "2           99.968133    0.473455                        1       0.438551   \n",
       "3           99.968133    0.473455                        0       0.438551   \n",
       "4           99.968133    0.473455                        1       0.438551   \n",
       "...               ...         ...                      ...            ...   \n",
       "167875      98.762147    0.773838                        1       0.700805   \n",
       "167876      99.849173    0.730292                        1       0.601739   \n",
       "167877      99.788573    0.739182                        0       0.709752   \n",
       "167878      99.636870    0.696018                        1       0.698399   \n",
       "167879      99.794210    0.715664                        1       0.618732   \n",
       "\n",
       "        skipped  \n",
       "0             0  \n",
       "1             0  \n",
       "2             0  \n",
       "3             0  \n",
       "4             0  \n",
       "...         ...  \n",
       "167875        1  \n",
       "167876        1  \n",
       "167877        0  \n",
       "167878        0  \n",
       "167879        1  \n",
       "\n",
       "[167880 rows x 21 columns]"
      ]
     },
     "execution_count": 387,
     "metadata": {},
     "output_type": "execute_result"
    }
   ],
   "source": [
    "final_df"
   ]
  },
  {
   "cell_type": "code",
   "execution_count": 388,
   "id": "a96dbab3",
   "metadata": {},
   "outputs": [],
   "source": [
    "final_df[['end_trackdone','start_trackdone','start_fwdbtn','end_fwdbtn','end_backbtn']] = final_df[['end_trackdone','start_trackdone','start_fwdbtn','end_fwdbtn','end_backbtn']].astype(float)"
   ]
  },
  {
   "cell_type": "code",
   "execution_count": 389,
   "id": "00974bfb",
   "metadata": {},
   "outputs": [
    {
     "data": {
      "text/plain": [
       "end_trackdone              float64\n",
       "start_trackdone            float64\n",
       "start_fwdbtn               float64\n",
       "end_fwdbtn                 float64\n",
       "end_backbtn                float64\n",
       "no_pause_before_play         int64\n",
       "long_pause_before_play       int64\n",
       "valence                    float64\n",
       "vector_6                   float64\n",
       "vector_5                   float64\n",
       "duration                   float64\n",
       "dyn_range_mean             float64\n",
       "vector_1                   float64\n",
       "organism                   float64\n",
       "energy                     float64\n",
       "vector_2                   float64\n",
       "us_popularity              float64\n",
       "bounciness                 float64\n",
       "short_pause_before_play      int64\n",
       "beat_strength              float64\n",
       "skipped                      int32\n",
       "dtype: object"
      ]
     },
     "execution_count": 389,
     "metadata": {},
     "output_type": "execute_result"
    }
   ],
   "source": [
    "final_df.dtypes"
   ]
  },
  {
   "cell_type": "code",
   "execution_count": 390,
   "id": "c963799c",
   "metadata": {},
   "outputs": [],
   "source": [
    "X = final_df.drop('skipped',axis=1)\n",
    "y = final_df['skipped']"
   ]
  },
  {
   "cell_type": "markdown",
   "id": "91eeb5c4",
   "metadata": {},
   "source": [
    "### Applying minmax scaling scaling on numerical variables with large unique values"
   ]
  },
  {
   "cell_type": "code",
   "execution_count": 391,
   "id": "b56427b3",
   "metadata": {},
   "outputs": [],
   "source": [
    "#from sklearn.preprocessing import StandardScaler\n",
    "from sklearn.preprocessing import MinMaxScaler"
   ]
  },
  {
   "cell_type": "code",
   "execution_count": 392,
   "id": "725e00c0",
   "metadata": {},
   "outputs": [],
   "source": [
    "#scaler = StandardScaler()\n",
    "scaler = MinMaxScaler()"
   ]
  },
  {
   "cell_type": "code",
   "execution_count": 393,
   "id": "d51c58e1",
   "metadata": {},
   "outputs": [],
   "source": [
    "X[['valence', 'vector_6', 'vector_5','duration', 'dyn_range_mean', 'vector_1',\n",
    "   'organism', 'energy', 'vector_2', 'us_popularity','bounciness',\n",
    "   'beat_strength']] = scaler.fit_transform(X[['valence', 'vector_6', 'vector_5', \n",
    "                    'duration', 'dyn_range_mean', 'vector_1','organism', 'energy', 'vector_2', 'us_popularity',\n",
    "                    'bounciness', 'beat_strength']])"
   ]
  },
  {
   "cell_type": "code",
   "execution_count": null,
   "id": "5a087c51",
   "metadata": {},
   "outputs": [],
   "source": []
  },
  {
   "cell_type": "markdown",
   "id": "b06849b2",
   "metadata": {},
   "source": [
    "## Saving the scaler"
   ]
  },
  {
   "cell_type": "code",
   "execution_count": 394,
   "id": "165a04e7",
   "metadata": {},
   "outputs": [],
   "source": [
    "import joblib"
   ]
  },
  {
   "cell_type": "code",
   "execution_count": 395,
   "id": "b166aa9d",
   "metadata": {},
   "outputs": [
    {
     "data": {
      "text/plain": [
       "['minmaxScaler.joblib']"
      ]
     },
     "execution_count": 395,
     "metadata": {},
     "output_type": "execute_result"
    }
   ],
   "source": [
    "joblib.dump(scaler,'minmaxScaler.joblib')"
   ]
  },
  {
   "cell_type": "code",
   "execution_count": 396,
   "id": "17426dec",
   "metadata": {},
   "outputs": [],
   "source": [
    "scaler = joblib.load('minmaxScaler.joblib')"
   ]
  },
  {
   "cell_type": "code",
   "execution_count": 397,
   "id": "8ec90d00",
   "metadata": {},
   "outputs": [
    {
     "data": {
      "text/html": [
       "<style>#sk-container-id-13 {color: black;background-color: white;}#sk-container-id-13 pre{padding: 0;}#sk-container-id-13 div.sk-toggleable {background-color: white;}#sk-container-id-13 label.sk-toggleable__label {cursor: pointer;display: block;width: 100%;margin-bottom: 0;padding: 0.3em;box-sizing: border-box;text-align: center;}#sk-container-id-13 label.sk-toggleable__label-arrow:before {content: \"▸\";float: left;margin-right: 0.25em;color: #696969;}#sk-container-id-13 label.sk-toggleable__label-arrow:hover:before {color: black;}#sk-container-id-13 div.sk-estimator:hover label.sk-toggleable__label-arrow:before {color: black;}#sk-container-id-13 div.sk-toggleable__content {max-height: 0;max-width: 0;overflow: hidden;text-align: left;background-color: #f0f8ff;}#sk-container-id-13 div.sk-toggleable__content pre {margin: 0.2em;color: black;border-radius: 0.25em;background-color: #f0f8ff;}#sk-container-id-13 input.sk-toggleable__control:checked~div.sk-toggleable__content {max-height: 200px;max-width: 100%;overflow: auto;}#sk-container-id-13 input.sk-toggleable__control:checked~label.sk-toggleable__label-arrow:before {content: \"▾\";}#sk-container-id-13 div.sk-estimator input.sk-toggleable__control:checked~label.sk-toggleable__label {background-color: #d4ebff;}#sk-container-id-13 div.sk-label input.sk-toggleable__control:checked~label.sk-toggleable__label {background-color: #d4ebff;}#sk-container-id-13 input.sk-hidden--visually {border: 0;clip: rect(1px 1px 1px 1px);clip: rect(1px, 1px, 1px, 1px);height: 1px;margin: -1px;overflow: hidden;padding: 0;position: absolute;width: 1px;}#sk-container-id-13 div.sk-estimator {font-family: monospace;background-color: #f0f8ff;border: 1px dotted black;border-radius: 0.25em;box-sizing: border-box;margin-bottom: 0.5em;}#sk-container-id-13 div.sk-estimator:hover {background-color: #d4ebff;}#sk-container-id-13 div.sk-parallel-item::after {content: \"\";width: 100%;border-bottom: 1px solid gray;flex-grow: 1;}#sk-container-id-13 div.sk-label:hover label.sk-toggleable__label {background-color: #d4ebff;}#sk-container-id-13 div.sk-serial::before {content: \"\";position: absolute;border-left: 1px solid gray;box-sizing: border-box;top: 0;bottom: 0;left: 50%;z-index: 0;}#sk-container-id-13 div.sk-serial {display: flex;flex-direction: column;align-items: center;background-color: white;padding-right: 0.2em;padding-left: 0.2em;position: relative;}#sk-container-id-13 div.sk-item {position: relative;z-index: 1;}#sk-container-id-13 div.sk-parallel {display: flex;align-items: stretch;justify-content: center;background-color: white;position: relative;}#sk-container-id-13 div.sk-item::before, #sk-container-id-13 div.sk-parallel-item::before {content: \"\";position: absolute;border-left: 1px solid gray;box-sizing: border-box;top: 0;bottom: 0;left: 50%;z-index: -1;}#sk-container-id-13 div.sk-parallel-item {display: flex;flex-direction: column;z-index: 1;position: relative;background-color: white;}#sk-container-id-13 div.sk-parallel-item:first-child::after {align-self: flex-end;width: 50%;}#sk-container-id-13 div.sk-parallel-item:last-child::after {align-self: flex-start;width: 50%;}#sk-container-id-13 div.sk-parallel-item:only-child::after {width: 0;}#sk-container-id-13 div.sk-dashed-wrapped {border: 1px dashed gray;margin: 0 0.4em 0.5em 0.4em;box-sizing: border-box;padding-bottom: 0.4em;background-color: white;}#sk-container-id-13 div.sk-label label {font-family: monospace;font-weight: bold;display: inline-block;line-height: 1.2em;}#sk-container-id-13 div.sk-label-container {text-align: center;}#sk-container-id-13 div.sk-container {/* jupyter's `normalize.less` sets `[hidden] { display: none; }` but bootstrap.min.css set `[hidden] { display: none !important; }` so we also need the `!important` here to be able to override the default hidden behavior on the sphinx rendered scikit-learn.org. See: https://github.com/scikit-learn/scikit-learn/issues/21755 */display: inline-block !important;position: relative;}#sk-container-id-13 div.sk-text-repr-fallback {display: none;}</style><div id=\"sk-container-id-13\" class=\"sk-top-container\"><div class=\"sk-text-repr-fallback\"><pre>MinMaxScaler()</pre><b>In a Jupyter environment, please rerun this cell to show the HTML representation or trust the notebook. <br />On GitHub, the HTML representation is unable to render, please try loading this page with nbviewer.org.</b></div><div class=\"sk-container\" hidden><div class=\"sk-item\"><div class=\"sk-estimator sk-toggleable\"><input class=\"sk-toggleable__control sk-hidden--visually\" id=\"sk-estimator-id-13\" type=\"checkbox\" checked><label for=\"sk-estimator-id-13\" class=\"sk-toggleable__label sk-toggleable__label-arrow\">MinMaxScaler</label><div class=\"sk-toggleable__content\"><pre>MinMaxScaler()</pre></div></div></div></div></div>"
      ],
      "text/plain": [
       "MinMaxScaler()"
      ]
     },
     "execution_count": 397,
     "metadata": {},
     "output_type": "execute_result"
    }
   ],
   "source": [
    "scaler"
   ]
  },
  {
   "cell_type": "code",
   "execution_count": null,
   "id": "cceb02dc",
   "metadata": {},
   "outputs": [],
   "source": []
  },
  {
   "cell_type": "markdown",
   "id": "5901f15e",
   "metadata": {},
   "source": [
    "## Importing the regression libraries"
   ]
  },
  {
   "cell_type": "code",
   "execution_count": 398,
   "id": "7af76a94",
   "metadata": {},
   "outputs": [],
   "source": [
    "from sklearn.linear_model import LogisticRegression\n",
    "from sklearn.naive_bayes import GaussianNB\n",
    "from sklearn.model_selection import train_test_split, GridSearchCV\n",
    "from sklearn.metrics import accuracy_score"
   ]
  },
  {
   "cell_type": "markdown",
   "id": "eb0e2f8f",
   "metadata": {},
   "source": [
    "### Logistic regression analysis"
   ]
  },
  {
   "cell_type": "code",
   "execution_count": 399,
   "id": "faf17498",
   "metadata": {},
   "outputs": [],
   "source": [
    "# Create a logistic regression model\n",
    "model = LogisticRegression()"
   ]
  },
  {
   "cell_type": "code",
   "execution_count": 400,
   "id": "ff2be1a1",
   "metadata": {},
   "outputs": [],
   "source": [
    "# Split the dataset into training and testing sets\n",
    "X_train, X_test, y_train, y_test = train_test_split(X, y, test_size=0.2, random_state=5)"
   ]
  },
  {
   "cell_type": "code",
   "execution_count": 401,
   "id": "dc8450c0",
   "metadata": {},
   "outputs": [
    {
     "name": "stdout",
     "output_type": "stream",
     "text": [
      "Accuracy: 0.8680605194186324\n"
     ]
    }
   ],
   "source": [
    "# Fit the model to the training data\n",
    "model.fit(X_train, y_train)\n",
    "\n",
    "# Make predictions on the test data\n",
    "y_pred = model.predict(X_test)\n",
    "\n",
    "# Evaluate the accuracy of the model\n",
    "accuracy = accuracy_score(y_test, y_pred)\n",
    "print(\"Accuracy:\", accuracy)"
   ]
  },
  {
   "cell_type": "markdown",
   "id": "b5d0be62",
   "metadata": {},
   "source": [
    "### Naive base regression analysis"
   ]
  },
  {
   "cell_type": "code",
   "execution_count": 402,
   "id": "6929a5be",
   "metadata": {},
   "outputs": [
    {
     "name": "stdout",
     "output_type": "stream",
     "text": [
      "Accuracy: 0.847003812246843\n"
     ]
    }
   ],
   "source": [
    "model = GaussianNB()\n",
    "\n",
    "# Train the model on the training data\n",
    "model.fit(X_train, y_train)\n",
    "\n",
    "# Make predictions on the test data\n",
    "y_pred = model.predict(X_test)\n",
    "\n",
    "# Evaluate the accuracy of the model\n",
    "accuracy = accuracy_score(y_test, y_pred)\n",
    "print(\"Accuracy:\", accuracy)"
   ]
  },
  {
   "cell_type": "markdown",
   "id": "0db23878",
   "metadata": {},
   "source": [
    "### KNN"
   ]
  },
  {
   "cell_type": "code",
   "execution_count": 403,
   "id": "093a74e0",
   "metadata": {},
   "outputs": [
    {
     "data": {
      "text/plain": [
       "0.8764295925661186"
      ]
     },
     "execution_count": 403,
     "metadata": {},
     "output_type": "execute_result"
    }
   ],
   "source": [
    "from sklearn.neighbors import KNeighborsClassifier\n",
    "from sklearn.metrics import  accuracy_score\n",
    "knn = KNeighborsClassifier(25)\n",
    "knn.fit(X_train, y_train)\n",
    "y_pred = knn.predict(X_test)\n",
    "accuracy_score(y_test, y_pred)"
   ]
  },
  {
   "cell_type": "markdown",
   "id": "0d77c6af",
   "metadata": {},
   "source": [
    "### DecisionTree"
   ]
  },
  {
   "cell_type": "code",
   "execution_count": 404,
   "id": "43694894",
   "metadata": {},
   "outputs": [
    {
     "data": {
      "text/plain": [
       "0.8765487252799619"
      ]
     },
     "execution_count": 404,
     "metadata": {},
     "output_type": "execute_result"
    }
   ],
   "source": [
    "from sklearn.tree import DecisionTreeClassifier\n",
    "from sklearn.metrics import  accuracy_score\n",
    "dtc = DecisionTreeClassifier(max_depth=5,criterion=\"gini\",random_state=100,\n",
    "                             min_samples_split=2,min_samples_leaf=2)\n",
    "dtc.fit(X_train, y_train)\n",
    "y_pred = dtc.predict(X_test)\n",
    "accuracy_score(y_test, y_pred)"
   ]
  },
  {
   "cell_type": "code",
   "execution_count": 405,
   "id": "194cd23b",
   "metadata": {},
   "outputs": [],
   "source": [
    "y_pred_t = dtc.predict(X_train)"
   ]
  },
  {
   "cell_type": "code",
   "execution_count": 406,
   "id": "2f71da85",
   "metadata": {},
   "outputs": [
    {
     "data": {
      "text/plain": [
       "0.874262866333095"
      ]
     },
     "execution_count": 406,
     "metadata": {},
     "output_type": "execute_result"
    }
   ],
   "source": [
    "accuracy_score(y_train,y_pred_t)"
   ]
  },
  {
   "cell_type": "markdown",
   "id": "8bd3c1ec",
   "metadata": {},
   "source": [
    "## Saving the model"
   ]
  },
  {
   "cell_type": "code",
   "execution_count": 407,
   "id": "829b30dc",
   "metadata": {},
   "outputs": [],
   "source": [
    "import joblib"
   ]
  },
  {
   "cell_type": "code",
   "execution_count": 408,
   "id": "8c604c76",
   "metadata": {},
   "outputs": [
    {
     "data": {
      "text/plain": [
       "['decisionTree.joblib']"
      ]
     },
     "execution_count": 408,
     "metadata": {},
     "output_type": "execute_result"
    }
   ],
   "source": [
    "joblib.dump(dtc,'decisionTree.joblib')"
   ]
  },
  {
   "cell_type": "code",
   "execution_count": 409,
   "id": "b3d5aa50",
   "metadata": {},
   "outputs": [],
   "source": [
    "model = joblib.load('decisionTree.joblib')"
   ]
  },
  {
   "cell_type": "code",
   "execution_count": 410,
   "id": "21d564db",
   "metadata": {},
   "outputs": [
    {
     "data": {
      "text/html": [
       "<style>#sk-container-id-14 {color: black;background-color: white;}#sk-container-id-14 pre{padding: 0;}#sk-container-id-14 div.sk-toggleable {background-color: white;}#sk-container-id-14 label.sk-toggleable__label {cursor: pointer;display: block;width: 100%;margin-bottom: 0;padding: 0.3em;box-sizing: border-box;text-align: center;}#sk-container-id-14 label.sk-toggleable__label-arrow:before {content: \"▸\";float: left;margin-right: 0.25em;color: #696969;}#sk-container-id-14 label.sk-toggleable__label-arrow:hover:before {color: black;}#sk-container-id-14 div.sk-estimator:hover label.sk-toggleable__label-arrow:before {color: black;}#sk-container-id-14 div.sk-toggleable__content {max-height: 0;max-width: 0;overflow: hidden;text-align: left;background-color: #f0f8ff;}#sk-container-id-14 div.sk-toggleable__content pre {margin: 0.2em;color: black;border-radius: 0.25em;background-color: #f0f8ff;}#sk-container-id-14 input.sk-toggleable__control:checked~div.sk-toggleable__content {max-height: 200px;max-width: 100%;overflow: auto;}#sk-container-id-14 input.sk-toggleable__control:checked~label.sk-toggleable__label-arrow:before {content: \"▾\";}#sk-container-id-14 div.sk-estimator input.sk-toggleable__control:checked~label.sk-toggleable__label {background-color: #d4ebff;}#sk-container-id-14 div.sk-label input.sk-toggleable__control:checked~label.sk-toggleable__label {background-color: #d4ebff;}#sk-container-id-14 input.sk-hidden--visually {border: 0;clip: rect(1px 1px 1px 1px);clip: rect(1px, 1px, 1px, 1px);height: 1px;margin: -1px;overflow: hidden;padding: 0;position: absolute;width: 1px;}#sk-container-id-14 div.sk-estimator {font-family: monospace;background-color: #f0f8ff;border: 1px dotted black;border-radius: 0.25em;box-sizing: border-box;margin-bottom: 0.5em;}#sk-container-id-14 div.sk-estimator:hover {background-color: #d4ebff;}#sk-container-id-14 div.sk-parallel-item::after {content: \"\";width: 100%;border-bottom: 1px solid gray;flex-grow: 1;}#sk-container-id-14 div.sk-label:hover label.sk-toggleable__label {background-color: #d4ebff;}#sk-container-id-14 div.sk-serial::before {content: \"\";position: absolute;border-left: 1px solid gray;box-sizing: border-box;top: 0;bottom: 0;left: 50%;z-index: 0;}#sk-container-id-14 div.sk-serial {display: flex;flex-direction: column;align-items: center;background-color: white;padding-right: 0.2em;padding-left: 0.2em;position: relative;}#sk-container-id-14 div.sk-item {position: relative;z-index: 1;}#sk-container-id-14 div.sk-parallel {display: flex;align-items: stretch;justify-content: center;background-color: white;position: relative;}#sk-container-id-14 div.sk-item::before, #sk-container-id-14 div.sk-parallel-item::before {content: \"\";position: absolute;border-left: 1px solid gray;box-sizing: border-box;top: 0;bottom: 0;left: 50%;z-index: -1;}#sk-container-id-14 div.sk-parallel-item {display: flex;flex-direction: column;z-index: 1;position: relative;background-color: white;}#sk-container-id-14 div.sk-parallel-item:first-child::after {align-self: flex-end;width: 50%;}#sk-container-id-14 div.sk-parallel-item:last-child::after {align-self: flex-start;width: 50%;}#sk-container-id-14 div.sk-parallel-item:only-child::after {width: 0;}#sk-container-id-14 div.sk-dashed-wrapped {border: 1px dashed gray;margin: 0 0.4em 0.5em 0.4em;box-sizing: border-box;padding-bottom: 0.4em;background-color: white;}#sk-container-id-14 div.sk-label label {font-family: monospace;font-weight: bold;display: inline-block;line-height: 1.2em;}#sk-container-id-14 div.sk-label-container {text-align: center;}#sk-container-id-14 div.sk-container {/* jupyter's `normalize.less` sets `[hidden] { display: none; }` but bootstrap.min.css set `[hidden] { display: none !important; }` so we also need the `!important` here to be able to override the default hidden behavior on the sphinx rendered scikit-learn.org. See: https://github.com/scikit-learn/scikit-learn/issues/21755 */display: inline-block !important;position: relative;}#sk-container-id-14 div.sk-text-repr-fallback {display: none;}</style><div id=\"sk-container-id-14\" class=\"sk-top-container\"><div class=\"sk-text-repr-fallback\"><pre>DecisionTreeClassifier(max_depth=5, min_samples_leaf=2, random_state=100)</pre><b>In a Jupyter environment, please rerun this cell to show the HTML representation or trust the notebook. <br />On GitHub, the HTML representation is unable to render, please try loading this page with nbviewer.org.</b></div><div class=\"sk-container\" hidden><div class=\"sk-item\"><div class=\"sk-estimator sk-toggleable\"><input class=\"sk-toggleable__control sk-hidden--visually\" id=\"sk-estimator-id-14\" type=\"checkbox\" checked><label for=\"sk-estimator-id-14\" class=\"sk-toggleable__label sk-toggleable__label-arrow\">DecisionTreeClassifier</label><div class=\"sk-toggleable__content\"><pre>DecisionTreeClassifier(max_depth=5, min_samples_leaf=2, random_state=100)</pre></div></div></div></div></div>"
      ],
      "text/plain": [
       "DecisionTreeClassifier(max_depth=5, min_samples_leaf=2, random_state=100)"
      ]
     },
     "execution_count": 410,
     "metadata": {},
     "output_type": "execute_result"
    }
   ],
   "source": [
    "model"
   ]
  },
  {
   "cell_type": "code",
   "execution_count": null,
   "id": "67f60020",
   "metadata": {},
   "outputs": [],
   "source": []
  },
  {
   "cell_type": "code",
   "execution_count": null,
   "id": "8644a114",
   "metadata": {},
   "outputs": [],
   "source": []
  },
  {
   "cell_type": "code",
   "execution_count": null,
   "id": "7f68cd02",
   "metadata": {},
   "outputs": [],
   "source": []
  },
  {
   "cell_type": "code",
   "execution_count": null,
   "id": "62e29ad3",
   "metadata": {},
   "outputs": [],
   "source": []
  },
  {
   "cell_type": "code",
   "execution_count": null,
   "id": "62b9e6f9",
   "metadata": {},
   "outputs": [],
   "source": []
  },
  {
   "cell_type": "code",
   "execution_count": null,
   "id": "53ddc071",
   "metadata": {},
   "outputs": [],
   "source": []
  },
  {
   "cell_type": "code",
   "execution_count": 280,
   "id": "aa77b49d",
   "metadata": {},
   "outputs": [
    {
     "data": {
      "text/plain": [
       "array([0.94488616, 0.03203354, 0.27679328, 0.21710155, 0.42931998,\n",
       "       0.7572144 , 0.99834933, 0.36418286, 0.3492696 , 0.17930871])"
      ]
     },
     "execution_count": 280,
     "metadata": {},
     "output_type": "execute_result"
    }
   ],
   "source": [
    "np.random.random(10)"
   ]
  },
  {
   "cell_type": "code",
   "execution_count": 321,
   "id": "a8231d0d",
   "metadata": {},
   "outputs": [],
   "source": [
    "import pandas as pd\n",
    "import numpy as np\n",
    "\n",
    "valence = np.random.randint(10,100,10).tolist()\n",
    "vector_6 = np.random.randint(10,100,10).tolist()\n",
    "vector_5 = np.random.randint(10,100,10).tolist()\n",
    "duration = np.random.randint(10,100,10).tolist()\n",
    "dyn_range_mean = np.random.randint(10,100,10).tolist()\n",
    "vector_1 = np.random.randint(10,100,10).tolist()\n",
    "organism = np.random.randint(10,100,10).tolist()\n",
    "energy = np.random.randint(10,100,10).tolist()\n",
    "vector_2 = np.random.randint(10,100,10).tolist()\n",
    "us_popularity = np.random.randint(10,100,10).tolist()\n",
    "bounciness = np.random.randint(10,100,10).tolist()\n",
    "beat_strength = np.random.randint(10,100,10).tolist()\n",
    "\n",
    "cols_to_scale = {\n",
    "    'valence': valence,\n",
    "    'vector_6': vector_6,\n",
    "    'vector_5': vector_5,\n",
    "    'duration': duration,\n",
    "    'dyn_range_mean': dyn_range_mean,\n",
    "    'vector_1': vector_1,\n",
    "    'organism': organism,\n",
    "    'energy': energy,\n",
    "    'vector_2': vector_2,\n",
    "    'us_popularity': us_popularity,\n",
    "    'bounciness': bounciness,\n",
    "    'beat_strength': beat_strength\n",
    "}\n",
    "\n",
    "scaling_input = pd.DataFrame(cols_to_scale)\n"
   ]
  },
  {
   "cell_type": "code",
   "execution_count": 322,
   "id": "e02ab760",
   "metadata": {},
   "outputs": [
    {
     "data": {
      "text/html": [
       "<div>\n",
       "<style scoped>\n",
       "    .dataframe tbody tr th:only-of-type {\n",
       "        vertical-align: middle;\n",
       "    }\n",
       "\n",
       "    .dataframe tbody tr th {\n",
       "        vertical-align: top;\n",
       "    }\n",
       "\n",
       "    .dataframe thead th {\n",
       "        text-align: right;\n",
       "    }\n",
       "</style>\n",
       "<table border=\"1\" class=\"dataframe\">\n",
       "  <thead>\n",
       "    <tr style=\"text-align: right;\">\n",
       "      <th></th>\n",
       "      <th>valence</th>\n",
       "      <th>vector_6</th>\n",
       "      <th>vector_5</th>\n",
       "      <th>duration</th>\n",
       "      <th>dyn_range_mean</th>\n",
       "      <th>vector_1</th>\n",
       "      <th>organism</th>\n",
       "      <th>energy</th>\n",
       "      <th>vector_2</th>\n",
       "      <th>us_popularity</th>\n",
       "      <th>bounciness</th>\n",
       "      <th>beat_strength</th>\n",
       "    </tr>\n",
       "  </thead>\n",
       "  <tbody>\n",
       "    <tr>\n",
       "      <th>0</th>\n",
       "      <td>31</td>\n",
       "      <td>74</td>\n",
       "      <td>13</td>\n",
       "      <td>77</td>\n",
       "      <td>89</td>\n",
       "      <td>22</td>\n",
       "      <td>91</td>\n",
       "      <td>46</td>\n",
       "      <td>41</td>\n",
       "      <td>98</td>\n",
       "      <td>75</td>\n",
       "      <td>16</td>\n",
       "    </tr>\n",
       "    <tr>\n",
       "      <th>1</th>\n",
       "      <td>17</td>\n",
       "      <td>63</td>\n",
       "      <td>98</td>\n",
       "      <td>94</td>\n",
       "      <td>25</td>\n",
       "      <td>26</td>\n",
       "      <td>58</td>\n",
       "      <td>58</td>\n",
       "      <td>43</td>\n",
       "      <td>85</td>\n",
       "      <td>93</td>\n",
       "      <td>54</td>\n",
       "    </tr>\n",
       "    <tr>\n",
       "      <th>2</th>\n",
       "      <td>46</td>\n",
       "      <td>70</td>\n",
       "      <td>79</td>\n",
       "      <td>53</td>\n",
       "      <td>71</td>\n",
       "      <td>98</td>\n",
       "      <td>41</td>\n",
       "      <td>14</td>\n",
       "      <td>25</td>\n",
       "      <td>93</td>\n",
       "      <td>73</td>\n",
       "      <td>55</td>\n",
       "    </tr>\n",
       "    <tr>\n",
       "      <th>3</th>\n",
       "      <td>44</td>\n",
       "      <td>47</td>\n",
       "      <td>58</td>\n",
       "      <td>74</td>\n",
       "      <td>48</td>\n",
       "      <td>63</td>\n",
       "      <td>68</td>\n",
       "      <td>39</td>\n",
       "      <td>81</td>\n",
       "      <td>79</td>\n",
       "      <td>28</td>\n",
       "      <td>89</td>\n",
       "    </tr>\n",
       "    <tr>\n",
       "      <th>4</th>\n",
       "      <td>67</td>\n",
       "      <td>85</td>\n",
       "      <td>23</td>\n",
       "      <td>19</td>\n",
       "      <td>68</td>\n",
       "      <td>97</td>\n",
       "      <td>83</td>\n",
       "      <td>43</td>\n",
       "      <td>14</td>\n",
       "      <td>59</td>\n",
       "      <td>24</td>\n",
       "      <td>75</td>\n",
       "    </tr>\n",
       "    <tr>\n",
       "      <th>5</th>\n",
       "      <td>23</td>\n",
       "      <td>43</td>\n",
       "      <td>10</td>\n",
       "      <td>99</td>\n",
       "      <td>80</td>\n",
       "      <td>71</td>\n",
       "      <td>56</td>\n",
       "      <td>31</td>\n",
       "      <td>10</td>\n",
       "      <td>14</td>\n",
       "      <td>65</td>\n",
       "      <td>77</td>\n",
       "    </tr>\n",
       "    <tr>\n",
       "      <th>6</th>\n",
       "      <td>95</td>\n",
       "      <td>14</td>\n",
       "      <td>34</td>\n",
       "      <td>50</td>\n",
       "      <td>68</td>\n",
       "      <td>61</td>\n",
       "      <td>28</td>\n",
       "      <td>80</td>\n",
       "      <td>56</td>\n",
       "      <td>78</td>\n",
       "      <td>68</td>\n",
       "      <td>63</td>\n",
       "    </tr>\n",
       "    <tr>\n",
       "      <th>7</th>\n",
       "      <td>73</td>\n",
       "      <td>51</td>\n",
       "      <td>14</td>\n",
       "      <td>27</td>\n",
       "      <td>12</td>\n",
       "      <td>89</td>\n",
       "      <td>37</td>\n",
       "      <td>77</td>\n",
       "      <td>63</td>\n",
       "      <td>41</td>\n",
       "      <td>74</td>\n",
       "      <td>62</td>\n",
       "    </tr>\n",
       "    <tr>\n",
       "      <th>8</th>\n",
       "      <td>71</td>\n",
       "      <td>79</td>\n",
       "      <td>50</td>\n",
       "      <td>41</td>\n",
       "      <td>83</td>\n",
       "      <td>76</td>\n",
       "      <td>82</td>\n",
       "      <td>46</td>\n",
       "      <td>36</td>\n",
       "      <td>54</td>\n",
       "      <td>25</td>\n",
       "      <td>27</td>\n",
       "    </tr>\n",
       "    <tr>\n",
       "      <th>9</th>\n",
       "      <td>99</td>\n",
       "      <td>20</td>\n",
       "      <td>55</td>\n",
       "      <td>54</td>\n",
       "      <td>76</td>\n",
       "      <td>39</td>\n",
       "      <td>29</td>\n",
       "      <td>57</td>\n",
       "      <td>57</td>\n",
       "      <td>44</td>\n",
       "      <td>52</td>\n",
       "      <td>38</td>\n",
       "    </tr>\n",
       "  </tbody>\n",
       "</table>\n",
       "</div>"
      ],
      "text/plain": [
       "   valence  vector_6  vector_5  duration  dyn_range_mean  vector_1  organism  \\\n",
       "0       31        74        13        77              89        22        91   \n",
       "1       17        63        98        94              25        26        58   \n",
       "2       46        70        79        53              71        98        41   \n",
       "3       44        47        58        74              48        63        68   \n",
       "4       67        85        23        19              68        97        83   \n",
       "5       23        43        10        99              80        71        56   \n",
       "6       95        14        34        50              68        61        28   \n",
       "7       73        51        14        27              12        89        37   \n",
       "8       71        79        50        41              83        76        82   \n",
       "9       99        20        55        54              76        39        29   \n",
       "\n",
       "   energy  vector_2  us_popularity  bounciness  beat_strength  \n",
       "0      46        41             98          75             16  \n",
       "1      58        43             85          93             54  \n",
       "2      14        25             93          73             55  \n",
       "3      39        81             79          28             89  \n",
       "4      43        14             59          24             75  \n",
       "5      31        10             14          65             77  \n",
       "6      80        56             78          68             63  \n",
       "7      77        63             41          74             62  \n",
       "8      46        36             54          25             27  \n",
       "9      57        57             44          52             38  "
      ]
     },
     "execution_count": 322,
     "metadata": {},
     "output_type": "execute_result"
    }
   ],
   "source": [
    "scaling_input"
   ]
  },
  {
   "cell_type": "code",
   "execution_count": 323,
   "id": "2300e254",
   "metadata": {
    "scrolled": true
   },
   "outputs": [],
   "source": [
    "scaled_cols = scaler.fit_transform(scaling_input)"
   ]
  },
  {
   "cell_type": "code",
   "execution_count": 328,
   "id": "72b32f8e",
   "metadata": {},
   "outputs": [],
   "source": [
    "scaled_output = pd.DataFrame(scaled_cols,columns=cols_to_scale)"
   ]
  },
  {
   "cell_type": "code",
   "execution_count": 330,
   "id": "4440d3b5",
   "metadata": {},
   "outputs": [
    {
     "data": {
      "text/plain": [
       "0    0.170732\n",
       "1    0.000000\n",
       "2    0.353659\n",
       "3    0.329268\n",
       "4    0.609756\n",
       "5    0.073171\n",
       "6    0.951220\n",
       "7    0.682927\n",
       "8    0.658537\n",
       "9    1.000000\n",
       "Name: valence, dtype: float64"
      ]
     },
     "execution_count": 330,
     "metadata": {},
     "output_type": "execute_result"
    }
   ],
   "source": [
    "scaled_output.valence"
   ]
  },
  {
   "cell_type": "code",
   "execution_count": null,
   "id": "91215882",
   "metadata": {},
   "outputs": [],
   "source": []
  },
  {
   "cell_type": "code",
   "execution_count": 331,
   "id": "b015b6d9",
   "metadata": {},
   "outputs": [],
   "source": [
    "\n",
    "valence = 15\n",
    "vector_6 = 25\n",
    "vector_5 = 18\n",
    "duration = 35\n",
    "dyn_range_mean =45 \n",
    "vector_1 = 54\n",
    "organism = 19\n",
    "energy = 28\n",
    "vector_2 = 75\n",
    "us_popularity = 65 \n",
    "bounciness = 22\n",
    "beat_strength =14 \n",
    "\n",
    "cols_to_scale = {\n",
    "    'valence': valence,\n",
    "    'vector_6': vector_6,\n",
    "    'vector_5': vector_5,\n",
    "    'duration': duration,\n",
    "    'dyn_range_mean': dyn_range_mean,\n",
    "    'vector_1': vector_1,\n",
    "    'organism': organism,\n",
    "    'energy': energy,\n",
    "    'vector_2': vector_2,\n",
    "    'us_popularity': us_popularity,\n",
    "    'bounciness': bounciness,\n",
    "    'beat_strength': beat_strength\n",
    "}"
   ]
  },
  {
   "cell_type": "code",
   "execution_count": 332,
   "id": "163bb17f",
   "metadata": {},
   "outputs": [],
   "source": [
    "scaling_input = pd.DataFrame(cols_to_scale, index=[1])"
   ]
  },
  {
   "cell_type": "code",
   "execution_count": 333,
   "id": "52a1ac15",
   "metadata": {},
   "outputs": [
    {
     "data": {
      "text/html": [
       "<div>\n",
       "<style scoped>\n",
       "    .dataframe tbody tr th:only-of-type {\n",
       "        vertical-align: middle;\n",
       "    }\n",
       "\n",
       "    .dataframe tbody tr th {\n",
       "        vertical-align: top;\n",
       "    }\n",
       "\n",
       "    .dataframe thead th {\n",
       "        text-align: right;\n",
       "    }\n",
       "</style>\n",
       "<table border=\"1\" class=\"dataframe\">\n",
       "  <thead>\n",
       "    <tr style=\"text-align: right;\">\n",
       "      <th></th>\n",
       "      <th>valence</th>\n",
       "      <th>vector_6</th>\n",
       "      <th>vector_5</th>\n",
       "      <th>duration</th>\n",
       "      <th>dyn_range_mean</th>\n",
       "      <th>vector_1</th>\n",
       "      <th>organism</th>\n",
       "      <th>energy</th>\n",
       "      <th>vector_2</th>\n",
       "      <th>us_popularity</th>\n",
       "      <th>bounciness</th>\n",
       "      <th>beat_strength</th>\n",
       "    </tr>\n",
       "  </thead>\n",
       "  <tbody>\n",
       "    <tr>\n",
       "      <th>1</th>\n",
       "      <td>15</td>\n",
       "      <td>25</td>\n",
       "      <td>18</td>\n",
       "      <td>35</td>\n",
       "      <td>45</td>\n",
       "      <td>54</td>\n",
       "      <td>19</td>\n",
       "      <td>28</td>\n",
       "      <td>75</td>\n",
       "      <td>65</td>\n",
       "      <td>22</td>\n",
       "      <td>14</td>\n",
       "    </tr>\n",
       "  </tbody>\n",
       "</table>\n",
       "</div>"
      ],
      "text/plain": [
       "   valence  vector_6  vector_5  duration  dyn_range_mean  vector_1  organism  \\\n",
       "1       15        25        18        35              45        54        19   \n",
       "\n",
       "   energy  vector_2  us_popularity  bounciness  beat_strength  \n",
       "1      28        75             65          22             14  "
      ]
     },
     "execution_count": 333,
     "metadata": {},
     "output_type": "execute_result"
    }
   ],
   "source": [
    "scaling_input"
   ]
  },
  {
   "cell_type": "code",
   "execution_count": 335,
   "id": "2f571b3a",
   "metadata": {},
   "outputs": [],
   "source": [
    "scaled_cols = scaler.transform(scaling_input)"
   ]
  },
  {
   "cell_type": "code",
   "execution_count": 336,
   "id": "a6bf99ec",
   "metadata": {},
   "outputs": [],
   "source": [
    "scaled_output = pd.DataFrame(scaled_cols,columns=cols_to_scale)"
   ]
  },
  {
   "cell_type": "code",
   "execution_count": 337,
   "id": "f9c87296",
   "metadata": {},
   "outputs": [
    {
     "data": {
      "text/html": [
       "<div>\n",
       "<style scoped>\n",
       "    .dataframe tbody tr th:only-of-type {\n",
       "        vertical-align: middle;\n",
       "    }\n",
       "\n",
       "    .dataframe tbody tr th {\n",
       "        vertical-align: top;\n",
       "    }\n",
       "\n",
       "    .dataframe thead th {\n",
       "        text-align: right;\n",
       "    }\n",
       "</style>\n",
       "<table border=\"1\" class=\"dataframe\">\n",
       "  <thead>\n",
       "    <tr style=\"text-align: right;\">\n",
       "      <th></th>\n",
       "      <th>valence</th>\n",
       "      <th>vector_6</th>\n",
       "      <th>vector_5</th>\n",
       "      <th>duration</th>\n",
       "      <th>dyn_range_mean</th>\n",
       "      <th>vector_1</th>\n",
       "      <th>organism</th>\n",
       "      <th>energy</th>\n",
       "      <th>vector_2</th>\n",
       "      <th>us_popularity</th>\n",
       "      <th>bounciness</th>\n",
       "      <th>beat_strength</th>\n",
       "    </tr>\n",
       "  </thead>\n",
       "  <tbody>\n",
       "    <tr>\n",
       "      <th>0</th>\n",
       "      <td>-0.02439</td>\n",
       "      <td>0.15493</td>\n",
       "      <td>0.090909</td>\n",
       "      <td>0.2</td>\n",
       "      <td>0.428571</td>\n",
       "      <td>0.421053</td>\n",
       "      <td>-0.142857</td>\n",
       "      <td>0.212121</td>\n",
       "      <td>0.915493</td>\n",
       "      <td>0.607143</td>\n",
       "      <td>-0.028986</td>\n",
       "      <td>-0.027397</td>\n",
       "    </tr>\n",
       "  </tbody>\n",
       "</table>\n",
       "</div>"
      ],
      "text/plain": [
       "   valence  vector_6  vector_5  duration  dyn_range_mean  vector_1  organism  \\\n",
       "0 -0.02439   0.15493  0.090909       0.2        0.428571  0.421053 -0.142857   \n",
       "\n",
       "     energy  vector_2  us_popularity  bounciness  beat_strength  \n",
       "0  0.212121  0.915493       0.607143   -0.028986      -0.027397  "
      ]
     },
     "execution_count": 337,
     "metadata": {},
     "output_type": "execute_result"
    }
   ],
   "source": [
    "scaled_output"
   ]
  },
  {
   "cell_type": "code",
   "execution_count": 342,
   "id": "00697bb4",
   "metadata": {},
   "outputs": [
    {
     "data": {
      "text/plain": [
       "0.42105263157894735"
      ]
     },
     "execution_count": 342,
     "metadata": {},
     "output_type": "execute_result"
    }
   ],
   "source": [
    "scaled_output.vector_1[0]"
   ]
  },
  {
   "cell_type": "code",
   "execution_count": 146,
   "id": "cb7fa8ec",
   "metadata": {},
   "outputs": [],
   "source": [
    "column_names = [\n",
    "    'end_trackdone', 'start_trackdone', 'start_fwdbtn', 'end_fwdbtn', 'end_backbtn', 'no_pause_before_play',\n",
    "    'long_pause_before_play', 'valence', 'vector_6', 'vector_5', 'duration', 'dyn_range_mean', 'vector_1',\n",
    "    'organism', 'energy', 'vector_2', 'us_popularity', 'bounciness', 'short_pause_before_play', 'beat_strength'\n",
    "]\n",
    "\n",
    "# Create a dictionary with column names as keys and values as column names\n",
    "data = {col: col for col in column_names}\n"
   ]
  },
  {
   "cell_type": "code",
   "execution_count": 149,
   "id": "c6454d18",
   "metadata": {},
   "outputs": [],
   "source": [
    "# Create a DataFrame\n",
    "df = pd.DataFrame(data,index=[1])"
   ]
  },
  {
   "cell_type": "code",
   "execution_count": 150,
   "id": "04289ec1",
   "metadata": {},
   "outputs": [
    {
     "data": {
      "text/html": [
       "<div>\n",
       "<style scoped>\n",
       "    .dataframe tbody tr th:only-of-type {\n",
       "        vertical-align: middle;\n",
       "    }\n",
       "\n",
       "    .dataframe tbody tr th {\n",
       "        vertical-align: top;\n",
       "    }\n",
       "\n",
       "    .dataframe thead th {\n",
       "        text-align: right;\n",
       "    }\n",
       "</style>\n",
       "<table border=\"1\" class=\"dataframe\">\n",
       "  <thead>\n",
       "    <tr style=\"text-align: right;\">\n",
       "      <th></th>\n",
       "      <th>end_trackdone</th>\n",
       "      <th>start_trackdone</th>\n",
       "      <th>start_fwdbtn</th>\n",
       "      <th>end_fwdbtn</th>\n",
       "      <th>end_backbtn</th>\n",
       "      <th>no_pause_before_play</th>\n",
       "      <th>long_pause_before_play</th>\n",
       "      <th>valence</th>\n",
       "      <th>vector_6</th>\n",
       "      <th>vector_5</th>\n",
       "      <th>duration</th>\n",
       "      <th>dyn_range_mean</th>\n",
       "      <th>vector_1</th>\n",
       "      <th>organism</th>\n",
       "      <th>energy</th>\n",
       "      <th>vector_2</th>\n",
       "      <th>us_popularity</th>\n",
       "      <th>bounciness</th>\n",
       "      <th>short_pause_before_play</th>\n",
       "      <th>beat_strength</th>\n",
       "    </tr>\n",
       "  </thead>\n",
       "  <tbody>\n",
       "    <tr>\n",
       "      <th>1</th>\n",
       "      <td>end_trackdone</td>\n",
       "      <td>start_trackdone</td>\n",
       "      <td>start_fwdbtn</td>\n",
       "      <td>end_fwdbtn</td>\n",
       "      <td>end_backbtn</td>\n",
       "      <td>no_pause_before_play</td>\n",
       "      <td>long_pause_before_play</td>\n",
       "      <td>valence</td>\n",
       "      <td>vector_6</td>\n",
       "      <td>vector_5</td>\n",
       "      <td>duration</td>\n",
       "      <td>dyn_range_mean</td>\n",
       "      <td>vector_1</td>\n",
       "      <td>organism</td>\n",
       "      <td>energy</td>\n",
       "      <td>vector_2</td>\n",
       "      <td>us_popularity</td>\n",
       "      <td>bounciness</td>\n",
       "      <td>short_pause_before_play</td>\n",
       "      <td>beat_strength</td>\n",
       "    </tr>\n",
       "  </tbody>\n",
       "</table>\n",
       "</div>"
      ],
      "text/plain": [
       "   end_trackdone  start_trackdone  start_fwdbtn  end_fwdbtn  end_backbtn  \\\n",
       "1  end_trackdone  start_trackdone  start_fwdbtn  end_fwdbtn  end_backbtn   \n",
       "\n",
       "   no_pause_before_play  long_pause_before_play  valence  vector_6  vector_5  \\\n",
       "1  no_pause_before_play  long_pause_before_play  valence  vector_6  vector_5   \n",
       "\n",
       "   duration  dyn_range_mean  vector_1  organism  energy  vector_2  \\\n",
       "1  duration  dyn_range_mean  vector_1  organism  energy  vector_2   \n",
       "\n",
       "   us_popularity  bounciness  short_pause_before_play  beat_strength  \n",
       "1  us_popularity  bounciness  short_pause_before_play  beat_strength  "
      ]
     },
     "execution_count": 150,
     "metadata": {},
     "output_type": "execute_result"
    }
   ],
   "source": [
    "df"
   ]
  },
  {
   "cell_type": "code",
   "execution_count": null,
   "id": "86bf959d",
   "metadata": {},
   "outputs": [],
   "source": []
  },
  {
   "cell_type": "code",
   "execution_count": null,
   "id": "61765d46",
   "metadata": {},
   "outputs": [],
   "source": []
  },
  {
   "cell_type": "code",
   "execution_count": 65,
   "id": "36674d58",
   "metadata": {},
   "outputs": [],
   "source": [
    "rng_df = df[['valence', 'acoustic_vector_6',\n",
    "       'acoustic_vector_5', 'duration', 'dyn_range_mean', 'acoustic_vector_1',\n",
    "       'organism', 'energy', 'acoustic_vector_2', 'us_popularity_estimate',\n",
    "       'bounciness','beat_strength']]"
   ]
  },
  {
   "cell_type": "code",
   "execution_count": 66,
   "id": "15015c09",
   "metadata": {},
   "outputs": [
    {
     "data": {
      "text/plain": [
       "valence                      0.999990\n",
       "acoustic_vector_6            0.283031\n",
       "acoustic_vector_5            0.380279\n",
       "duration                  1787.760986\n",
       "dyn_range_mean              16.075128\n",
       "acoustic_vector_1            0.598190\n",
       "organism                     0.867550\n",
       "energy                       0.999877\n",
       "acoustic_vector_2            0.483090\n",
       "us_popularity_estimate      99.999997\n",
       "bounciness                   0.972590\n",
       "beat_strength                0.990419\n",
       "dtype: float64"
      ]
     },
     "execution_count": 66,
     "metadata": {},
     "output_type": "execute_result"
    }
   ],
   "source": [
    "rng_df.max()"
   ]
  },
  {
   "cell_type": "code",
   "execution_count": 67,
   "id": "36573bd7",
   "metadata": {},
   "outputs": [
    {
     "data": {
      "text/plain": [
       "valence                    0.000000\n",
       "acoustic_vector_6         -0.736395\n",
       "acoustic_vector_5         -0.284353\n",
       "duration                  30.013330\n",
       "dyn_range_mean             1.914216\n",
       "acoustic_vector_1          0.002451\n",
       "organism                   0.000000\n",
       "energy                     0.143039\n",
       "acoustic_vector_2         -0.010010\n",
       "us_popularity_estimate    90.018900\n",
       "bounciness                 0.043036\n",
       "beat_strength              0.086171\n",
       "dtype: float64"
      ]
     },
     "execution_count": 67,
     "metadata": {},
     "output_type": "execute_result"
    }
   ],
   "source": [
    "rng_df.min()"
   ]
  },
  {
   "cell_type": "code",
   "execution_count": 68,
   "id": "70cc7044",
   "metadata": {},
   "outputs": [
    {
     "data": {
      "text/plain": [
       "MultiIndex([(          'end_trackdone',),\n",
       "            (        'start_trackdone',),\n",
       "            (           'start_fwdbtn',),\n",
       "            (             'end_fwdbtn',),\n",
       "            (            'end_backbtn',),\n",
       "            (   'no_pause_before_play',),\n",
       "            ( 'long_pause_before_play',),\n",
       "            (                'valence',),\n",
       "            (               'vector_6',),\n",
       "            (               'vector_5',),\n",
       "            (               'duration',),\n",
       "            (         'dyn_range_mean',),\n",
       "            (               'vector_1',),\n",
       "            (               'organism',),\n",
       "            (                 'energy',),\n",
       "            (               'vector_2',),\n",
       "            (          'us_popularity',),\n",
       "            (             'bounciness',),\n",
       "            ('short_pause_before_play',),\n",
       "            (          'beat_strength',),\n",
       "            (                'skipped',)],\n",
       "           )"
      ]
     },
     "execution_count": 68,
     "metadata": {},
     "output_type": "execute_result"
    }
   ],
   "source": [
    "final_df.columns"
   ]
  },
  {
   "cell_type": "code",
   "execution_count": null,
   "id": "5896add6",
   "metadata": {},
   "outputs": [],
   "source": []
  }
 ],
 "metadata": {
  "kernelspec": {
   "display_name": "Python 3 (ipykernel)",
   "language": "python",
   "name": "python3"
  },
  "language_info": {
   "codemirror_mode": {
    "name": "ipython",
    "version": 3
   },
   "file_extension": ".py",
   "mimetype": "text/x-python",
   "name": "python",
   "nbconvert_exporter": "python",
   "pygments_lexer": "ipython3",
   "version": "3.9.12"
  }
 },
 "nbformat": 4,
 "nbformat_minor": 5
}
